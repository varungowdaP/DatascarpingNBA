{
 "cells": [
  {
   "cell_type": "code",
   "execution_count": 2,
   "id": "09b620b5-598a-4b57-b956-174c83a4c431",
   "metadata": {},
   "outputs": [],
   "source": [
    "import pandas as pd\n",
    "import plotly.express as px\n",
    "import plotly.graph_objects as go\n",
    "pd.set_option('display.max_columns',None)\n",
    "data= pd.read_excel('nba_player_data.xlsx')\n"
   ]
  },
  {
   "cell_type": "code",
   "execution_count": 8,
   "id": "9c2073a4-0be9-4b26-9fac-0456bdeb1132",
   "metadata": {},
   "outputs": [
    {
     "data": {
      "text/html": [
       "<div>\n",
       "<style scoped>\n",
       "    .dataframe tbody tr th:only-of-type {\n",
       "        vertical-align: middle;\n",
       "    }\n",
       "\n",
       "    .dataframe tbody tr th {\n",
       "        vertical-align: top;\n",
       "    }\n",
       "\n",
       "    .dataframe thead th {\n",
       "        text-align: right;\n",
       "    }\n",
       "</style>\n",
       "<table border=\"1\" class=\"dataframe\">\n",
       "  <thead>\n",
       "    <tr style=\"text-align: right;\">\n",
       "      <th></th>\n",
       "      <th>Year</th>\n",
       "      <th>Season_type</th>\n",
       "      <th>PLAYER_ID</th>\n",
       "      <th>RANK</th>\n",
       "      <th>PLAYER</th>\n",
       "      <th>TEAM</th>\n",
       "      <th>GP</th>\n",
       "      <th>MIN</th>\n",
       "      <th>FGM</th>\n",
       "      <th>FGA</th>\n",
       "      <th>FG_PCT</th>\n",
       "      <th>FG3M</th>\n",
       "      <th>FG3A</th>\n",
       "      <th>FG3_PCT</th>\n",
       "      <th>FTM</th>\n",
       "      <th>FTA</th>\n",
       "      <th>FT_PCT</th>\n",
       "      <th>OREB</th>\n",
       "      <th>DREB</th>\n",
       "      <th>REB</th>\n",
       "      <th>AST</th>\n",
       "      <th>STL</th>\n",
       "      <th>BLK</th>\n",
       "      <th>TOV</th>\n",
       "      <th>PF</th>\n",
       "      <th>PTS</th>\n",
       "      <th>EFF</th>\n",
       "      <th>AST_TOV</th>\n",
       "      <th>STL_TOV</th>\n",
       "    </tr>\n",
       "  </thead>\n",
       "  <tbody>\n",
       "    <tr>\n",
       "      <th>0</th>\n",
       "      <td>2012-13</td>\n",
       "      <td>Regular%20Season</td>\n",
       "      <td>201142</td>\n",
       "      <td>1</td>\n",
       "      <td>Kevin Durant</td>\n",
       "      <td>OKC</td>\n",
       "      <td>81</td>\n",
       "      <td>3119</td>\n",
       "      <td>731</td>\n",
       "      <td>1433</td>\n",
       "      <td>0.510</td>\n",
       "      <td>139</td>\n",
       "      <td>334</td>\n",
       "      <td>0.416</td>\n",
       "      <td>679</td>\n",
       "      <td>750</td>\n",
       "      <td>0.905</td>\n",
       "      <td>46</td>\n",
       "      <td>594</td>\n",
       "      <td>640</td>\n",
       "      <td>374</td>\n",
       "      <td>116</td>\n",
       "      <td>105</td>\n",
       "      <td>280</td>\n",
       "      <td>143</td>\n",
       "      <td>2280</td>\n",
       "      <td>2462</td>\n",
       "      <td>1.34</td>\n",
       "      <td>0.41</td>\n",
       "    </tr>\n",
       "    <tr>\n",
       "      <th>1</th>\n",
       "      <td>2012-13</td>\n",
       "      <td>Regular%20Season</td>\n",
       "      <td>977</td>\n",
       "      <td>2</td>\n",
       "      <td>Kobe Bryant</td>\n",
       "      <td>LAL</td>\n",
       "      <td>78</td>\n",
       "      <td>3013</td>\n",
       "      <td>738</td>\n",
       "      <td>1595</td>\n",
       "      <td>0.463</td>\n",
       "      <td>132</td>\n",
       "      <td>407</td>\n",
       "      <td>0.324</td>\n",
       "      <td>525</td>\n",
       "      <td>626</td>\n",
       "      <td>0.839</td>\n",
       "      <td>66</td>\n",
       "      <td>367</td>\n",
       "      <td>433</td>\n",
       "      <td>469</td>\n",
       "      <td>106</td>\n",
       "      <td>25</td>\n",
       "      <td>287</td>\n",
       "      <td>173</td>\n",
       "      <td>2133</td>\n",
       "      <td>1921</td>\n",
       "      <td>1.63</td>\n",
       "      <td>0.37</td>\n",
       "    </tr>\n",
       "    <tr>\n",
       "      <th>2</th>\n",
       "      <td>2012-13</td>\n",
       "      <td>Regular%20Season</td>\n",
       "      <td>2544</td>\n",
       "      <td>3</td>\n",
       "      <td>LeBron James</td>\n",
       "      <td>MIA</td>\n",
       "      <td>76</td>\n",
       "      <td>2877</td>\n",
       "      <td>765</td>\n",
       "      <td>1354</td>\n",
       "      <td>0.565</td>\n",
       "      <td>103</td>\n",
       "      <td>254</td>\n",
       "      <td>0.406</td>\n",
       "      <td>403</td>\n",
       "      <td>535</td>\n",
       "      <td>0.753</td>\n",
       "      <td>97</td>\n",
       "      <td>513</td>\n",
       "      <td>610</td>\n",
       "      <td>551</td>\n",
       "      <td>129</td>\n",
       "      <td>67</td>\n",
       "      <td>226</td>\n",
       "      <td>110</td>\n",
       "      <td>2036</td>\n",
       "      <td>2446</td>\n",
       "      <td>2.44</td>\n",
       "      <td>0.57</td>\n",
       "    </tr>\n",
       "    <tr>\n",
       "      <th>3</th>\n",
       "      <td>2012-13</td>\n",
       "      <td>Regular%20Season</td>\n",
       "      <td>201935</td>\n",
       "      <td>4</td>\n",
       "      <td>James Harden</td>\n",
       "      <td>HOU</td>\n",
       "      <td>78</td>\n",
       "      <td>2985</td>\n",
       "      <td>585</td>\n",
       "      <td>1337</td>\n",
       "      <td>0.438</td>\n",
       "      <td>179</td>\n",
       "      <td>486</td>\n",
       "      <td>0.368</td>\n",
       "      <td>674</td>\n",
       "      <td>792</td>\n",
       "      <td>0.851</td>\n",
       "      <td>62</td>\n",
       "      <td>317</td>\n",
       "      <td>379</td>\n",
       "      <td>455</td>\n",
       "      <td>142</td>\n",
       "      <td>38</td>\n",
       "      <td>295</td>\n",
       "      <td>178</td>\n",
       "      <td>2023</td>\n",
       "      <td>1872</td>\n",
       "      <td>1.54</td>\n",
       "      <td>0.48</td>\n",
       "    </tr>\n",
       "    <tr>\n",
       "      <th>4</th>\n",
       "      <td>2012-13</td>\n",
       "      <td>Regular%20Season</td>\n",
       "      <td>2546</td>\n",
       "      <td>5</td>\n",
       "      <td>Carmelo Anthony</td>\n",
       "      <td>NYK</td>\n",
       "      <td>67</td>\n",
       "      <td>2482</td>\n",
       "      <td>669</td>\n",
       "      <td>1489</td>\n",
       "      <td>0.449</td>\n",
       "      <td>157</td>\n",
       "      <td>414</td>\n",
       "      <td>0.379</td>\n",
       "      <td>425</td>\n",
       "      <td>512</td>\n",
       "      <td>0.830</td>\n",
       "      <td>134</td>\n",
       "      <td>326</td>\n",
       "      <td>460</td>\n",
       "      <td>171</td>\n",
       "      <td>52</td>\n",
       "      <td>32</td>\n",
       "      <td>175</td>\n",
       "      <td>205</td>\n",
       "      <td>1920</td>\n",
       "      <td>1553</td>\n",
       "      <td>0.98</td>\n",
       "      <td>0.30</td>\n",
       "    </tr>\n",
       "  </tbody>\n",
       "</table>\n",
       "</div>"
      ],
      "text/plain": [
       "      Year       Season_type  PLAYER_ID  RANK           PLAYER TEAM  GP   MIN  \\\n",
       "0  2012-13  Regular%20Season     201142     1     Kevin Durant  OKC  81  3119   \n",
       "1  2012-13  Regular%20Season        977     2      Kobe Bryant  LAL  78  3013   \n",
       "2  2012-13  Regular%20Season       2544     3     LeBron James  MIA  76  2877   \n",
       "3  2012-13  Regular%20Season     201935     4     James Harden  HOU  78  2985   \n",
       "4  2012-13  Regular%20Season       2546     5  Carmelo Anthony  NYK  67  2482   \n",
       "\n",
       "   FGM   FGA  FG_PCT  FG3M  FG3A  FG3_PCT  FTM  FTA  FT_PCT  OREB  DREB  REB  \\\n",
       "0  731  1433   0.510   139   334    0.416  679  750   0.905    46   594  640   \n",
       "1  738  1595   0.463   132   407    0.324  525  626   0.839    66   367  433   \n",
       "2  765  1354   0.565   103   254    0.406  403  535   0.753    97   513  610   \n",
       "3  585  1337   0.438   179   486    0.368  674  792   0.851    62   317  379   \n",
       "4  669  1489   0.449   157   414    0.379  425  512   0.830   134   326  460   \n",
       "\n",
       "   AST  STL  BLK  TOV   PF   PTS   EFF  AST_TOV  STL_TOV  \n",
       "0  374  116  105  280  143  2280  2462     1.34     0.41  \n",
       "1  469  106   25  287  173  2133  1921     1.63     0.37  \n",
       "2  551  129   67  226  110  2036  2446     2.44     0.57  \n",
       "3  455  142   38  295  178  2023  1872     1.54     0.48  \n",
       "4  171   52   32  175  205  1920  1553     0.98     0.30  "
      ]
     },
     "execution_count": 8,
     "metadata": {},
     "output_type": "execute_result"
    }
   ],
   "source": [
    "data.head()\n"
   ]
  },
  {
   "cell_type": "markdown",
   "id": "2b1a9f44-914a-419a-ac9d-fe9c9f414e1c",
   "metadata": {},
   "source": [
    "data cleaning\n"
   ]
  },
  {
   "cell_type": "code",
   "execution_count": 6,
   "id": "cf1388d5-e572-40fa-8604-b4aa3d4cfbfe",
   "metadata": {},
   "outputs": [
    {
     "data": {
      "text/plain": [
       "(7293, 29)"
      ]
     },
     "execution_count": 6,
     "metadata": {},
     "output_type": "execute_result"
    }
   ],
   "source": [
    "data.shape"
   ]
  },
  {
   "cell_type": "code",
   "execution_count": 8,
   "id": "a554e6dc-c4e4-4f0d-b4a9-44f8d461ff4f",
   "metadata": {},
   "outputs": [
    {
     "data": {
      "text/html": [
       "<div>\n",
       "<style scoped>\n",
       "    .dataframe tbody tr th:only-of-type {\n",
       "        vertical-align: middle;\n",
       "    }\n",
       "\n",
       "    .dataframe tbody tr th {\n",
       "        vertical-align: top;\n",
       "    }\n",
       "\n",
       "    .dataframe thead th {\n",
       "        text-align: right;\n",
       "    }\n",
       "</style>\n",
       "<table border=\"1\" class=\"dataframe\">\n",
       "  <thead>\n",
       "    <tr style=\"text-align: right;\">\n",
       "      <th></th>\n",
       "      <th>Year</th>\n",
       "      <th>Season_type</th>\n",
       "      <th>PLAYER_ID</th>\n",
       "      <th>RANK</th>\n",
       "      <th>PLAYER</th>\n",
       "      <th>TEAM</th>\n",
       "      <th>GP</th>\n",
       "      <th>MIN</th>\n",
       "      <th>FGM</th>\n",
       "      <th>FGA</th>\n",
       "      <th>FG_PCT</th>\n",
       "      <th>FG3M</th>\n",
       "      <th>FG3A</th>\n",
       "      <th>FG3_PCT</th>\n",
       "      <th>FTM</th>\n",
       "      <th>FTA</th>\n",
       "      <th>FT_PCT</th>\n",
       "      <th>OREB</th>\n",
       "      <th>DREB</th>\n",
       "      <th>REB</th>\n",
       "      <th>AST</th>\n",
       "      <th>STL</th>\n",
       "      <th>BLK</th>\n",
       "      <th>TOV</th>\n",
       "      <th>PF</th>\n",
       "      <th>PTS</th>\n",
       "      <th>EFF</th>\n",
       "      <th>AST_TOV</th>\n",
       "      <th>STL_TOV</th>\n",
       "    </tr>\n",
       "  </thead>\n",
       "  <tbody>\n",
       "    <tr>\n",
       "      <th>7288</th>\n",
       "      <td>2021-22</td>\n",
       "      <td>Playoffs</td>\n",
       "      <td>1629006</td>\n",
       "      <td>206</td>\n",
       "      <td>Josh Okogie</td>\n",
       "      <td>MIN</td>\n",
       "      <td>1</td>\n",
       "      <td>2</td>\n",
       "      <td>0</td>\n",
       "      <td>0</td>\n",
       "      <td>0.0</td>\n",
       "      <td>0</td>\n",
       "      <td>0</td>\n",
       "      <td>0.0</td>\n",
       "      <td>0</td>\n",
       "      <td>0</td>\n",
       "      <td>0.0</td>\n",
       "      <td>0</td>\n",
       "      <td>0</td>\n",
       "      <td>0</td>\n",
       "      <td>0</td>\n",
       "      <td>0</td>\n",
       "      <td>0</td>\n",
       "      <td>0</td>\n",
       "      <td>0</td>\n",
       "      <td>0</td>\n",
       "      <td>0</td>\n",
       "      <td>0.0</td>\n",
       "      <td>0.0</td>\n",
       "    </tr>\n",
       "    <tr>\n",
       "      <th>7289</th>\n",
       "      <td>2021-22</td>\n",
       "      <td>Playoffs</td>\n",
       "      <td>1630556</td>\n",
       "      <td>206</td>\n",
       "      <td>Kessler Edwards</td>\n",
       "      <td>BKN</td>\n",
       "      <td>2</td>\n",
       "      <td>7</td>\n",
       "      <td>0</td>\n",
       "      <td>0</td>\n",
       "      <td>0.0</td>\n",
       "      <td>0</td>\n",
       "      <td>0</td>\n",
       "      <td>0.0</td>\n",
       "      <td>0</td>\n",
       "      <td>0</td>\n",
       "      <td>0.0</td>\n",
       "      <td>0</td>\n",
       "      <td>0</td>\n",
       "      <td>0</td>\n",
       "      <td>1</td>\n",
       "      <td>1</td>\n",
       "      <td>0</td>\n",
       "      <td>1</td>\n",
       "      <td>3</td>\n",
       "      <td>0</td>\n",
       "      <td>1</td>\n",
       "      <td>1.0</td>\n",
       "      <td>1.0</td>\n",
       "    </tr>\n",
       "    <tr>\n",
       "      <th>7290</th>\n",
       "      <td>2021-22</td>\n",
       "      <td>Playoffs</td>\n",
       "      <td>1630201</td>\n",
       "      <td>206</td>\n",
       "      <td>Malachi Flynn</td>\n",
       "      <td>TOR</td>\n",
       "      <td>6</td>\n",
       "      <td>36</td>\n",
       "      <td>0</td>\n",
       "      <td>7</td>\n",
       "      <td>0.0</td>\n",
       "      <td>0</td>\n",
       "      <td>3</td>\n",
       "      <td>0.0</td>\n",
       "      <td>0</td>\n",
       "      <td>0</td>\n",
       "      <td>0.0</td>\n",
       "      <td>2</td>\n",
       "      <td>1</td>\n",
       "      <td>3</td>\n",
       "      <td>3</td>\n",
       "      <td>1</td>\n",
       "      <td>0</td>\n",
       "      <td>1</td>\n",
       "      <td>6</td>\n",
       "      <td>0</td>\n",
       "      <td>-1</td>\n",
       "      <td>3.0</td>\n",
       "      <td>1.0</td>\n",
       "    </tr>\n",
       "    <tr>\n",
       "      <th>7291</th>\n",
       "      <td>2021-22</td>\n",
       "      <td>Playoffs</td>\n",
       "      <td>202693</td>\n",
       "      <td>206</td>\n",
       "      <td>Markieff Morris</td>\n",
       "      <td>MIA</td>\n",
       "      <td>2</td>\n",
       "      <td>3</td>\n",
       "      <td>0</td>\n",
       "      <td>1</td>\n",
       "      <td>0.0</td>\n",
       "      <td>0</td>\n",
       "      <td>0</td>\n",
       "      <td>0.0</td>\n",
       "      <td>0</td>\n",
       "      <td>0</td>\n",
       "      <td>0.0</td>\n",
       "      <td>0</td>\n",
       "      <td>1</td>\n",
       "      <td>1</td>\n",
       "      <td>0</td>\n",
       "      <td>0</td>\n",
       "      <td>0</td>\n",
       "      <td>1</td>\n",
       "      <td>2</td>\n",
       "      <td>0</td>\n",
       "      <td>-1</td>\n",
       "      <td>0.0</td>\n",
       "      <td>0.0</td>\n",
       "    </tr>\n",
       "    <tr>\n",
       "      <th>7292</th>\n",
       "      <td>2021-22</td>\n",
       "      <td>Playoffs</td>\n",
       "      <td>200794</td>\n",
       "      <td>206</td>\n",
       "      <td>Paul Millsap</td>\n",
       "      <td>PHI</td>\n",
       "      <td>1</td>\n",
       "      <td>6</td>\n",
       "      <td>0</td>\n",
       "      <td>0</td>\n",
       "      <td>0.0</td>\n",
       "      <td>0</td>\n",
       "      <td>0</td>\n",
       "      <td>0.0</td>\n",
       "      <td>0</td>\n",
       "      <td>0</td>\n",
       "      <td>0.0</td>\n",
       "      <td>0</td>\n",
       "      <td>1</td>\n",
       "      <td>1</td>\n",
       "      <td>1</td>\n",
       "      <td>0</td>\n",
       "      <td>0</td>\n",
       "      <td>0</td>\n",
       "      <td>1</td>\n",
       "      <td>0</td>\n",
       "      <td>2</td>\n",
       "      <td>0.0</td>\n",
       "      <td>0.0</td>\n",
       "    </tr>\n",
       "  </tbody>\n",
       "</table>\n",
       "</div>"
      ],
      "text/plain": [
       "         Year Season_type  PLAYER_ID  RANK           PLAYER TEAM  GP  MIN  \\\n",
       "7288  2021-22    Playoffs    1629006   206      Josh Okogie  MIN   1    2   \n",
       "7289  2021-22    Playoffs    1630556   206  Kessler Edwards  BKN   2    7   \n",
       "7290  2021-22    Playoffs    1630201   206    Malachi Flynn  TOR   6   36   \n",
       "7291  2021-22    Playoffs     202693   206  Markieff Morris  MIA   2    3   \n",
       "7292  2021-22    Playoffs     200794   206     Paul Millsap  PHI   1    6   \n",
       "\n",
       "      FGM  FGA  FG_PCT  FG3M  FG3A  FG3_PCT  FTM  FTA  FT_PCT  OREB  DREB  \\\n",
       "7288    0    0     0.0     0     0      0.0    0    0     0.0     0     0   \n",
       "7289    0    0     0.0     0     0      0.0    0    0     0.0     0     0   \n",
       "7290    0    7     0.0     0     3      0.0    0    0     0.0     2     1   \n",
       "7291    0    1     0.0     0     0      0.0    0    0     0.0     0     1   \n",
       "7292    0    0     0.0     0     0      0.0    0    0     0.0     0     1   \n",
       "\n",
       "      REB  AST  STL  BLK  TOV  PF  PTS  EFF  AST_TOV  STL_TOV  \n",
       "7288    0    0    0    0    0   0    0    0      0.0      0.0  \n",
       "7289    0    1    1    0    1   3    0    1      1.0      1.0  \n",
       "7290    3    3    1    0    1   6    0   -1      3.0      1.0  \n",
       "7291    1    0    0    0    1   2    0   -1      0.0      0.0  \n",
       "7292    1    1    0    0    0   1    0    2      0.0      0.0  "
      ]
     },
     "execution_count": 8,
     "metadata": {},
     "output_type": "execute_result"
    }
   ],
   "source": [
    "data.tail()"
   ]
  },
  {
   "cell_type": "markdown",
   "id": "1754248c-11f6-4da0-a811-9005917a90ad",
   "metadata": {},
   "source": [
    "\n",
    "### Question 1:\n",
    "cleaning data \n"
   ]
  },
  {
   "cell_type": "code",
   "execution_count": 15,
   "id": "49bc5c5a-6666-48e0-a61f-35c5783842c8",
   "metadata": {},
   "outputs": [
    {
     "data": {
      "text/plain": [
       "Year           0\n",
       "Season_type    0\n",
       "PLAYER_ID      0\n",
       "RANK           0\n",
       "PLAYER         0\n",
       "TEAM           0\n",
       "GP             0\n",
       "MIN            0\n",
       "FGM            0\n",
       "FGA            0\n",
       "FG_PCT         0\n",
       "FG3M           0\n",
       "FG3A           0\n",
       "FG3_PCT        0\n",
       "FTM            0\n",
       "FTA            0\n",
       "FT_PCT         0\n",
       "OREB           0\n",
       "DREB           0\n",
       "REB            0\n",
       "AST            0\n",
       "STL            0\n",
       "BLK            0\n",
       "TOV            0\n",
       "PF             0\n",
       "PTS            0\n",
       "EFF            0\n",
       "AST_TOV        0\n",
       "STL_TOV        0\n",
       "dtype: int64"
      ]
     },
     "execution_count": 15,
     "metadata": {},
     "output_type": "execute_result"
    }
   ],
   "source": [
    "data.isna().sum()"
   ]
  },
  {
   "cell_type": "markdown",
   "id": "545ba136-976c-4b2e-9f17-b755930154ea",
   "metadata": {},
   "source": [
    "data.drop(columns=['RANK','EFF'},inplace =True)"
   ]
  },
  {
   "cell_type": "code",
   "execution_count": 22,
   "id": "9fb65630-cc99-4872-bf8b-8f60b8cfa9d1",
   "metadata": {},
   "outputs": [
    {
     "data": {
      "text/html": [
       "<div>\n",
       "<style scoped>\n",
       "    .dataframe tbody tr th:only-of-type {\n",
       "        vertical-align: middle;\n",
       "    }\n",
       "\n",
       "    .dataframe tbody tr th {\n",
       "        vertical-align: top;\n",
       "    }\n",
       "\n",
       "    .dataframe thead th {\n",
       "        text-align: right;\n",
       "    }\n",
       "</style>\n",
       "<table border=\"1\" class=\"dataframe\">\n",
       "  <thead>\n",
       "    <tr style=\"text-align: right;\">\n",
       "      <th></th>\n",
       "      <th>Year</th>\n",
       "      <th>Season_type</th>\n",
       "      <th>PLAYER_ID</th>\n",
       "      <th>PLAYER</th>\n",
       "      <th>TEAM</th>\n",
       "      <th>GP</th>\n",
       "      <th>MIN</th>\n",
       "      <th>FGM</th>\n",
       "      <th>FGA</th>\n",
       "      <th>FG_PCT</th>\n",
       "      <th>FG3M</th>\n",
       "      <th>FG3A</th>\n",
       "      <th>FG3_PCT</th>\n",
       "      <th>FTM</th>\n",
       "      <th>FTA</th>\n",
       "      <th>FT_PCT</th>\n",
       "      <th>OREB</th>\n",
       "      <th>DREB</th>\n",
       "      <th>REB</th>\n",
       "      <th>AST</th>\n",
       "      <th>STL</th>\n",
       "      <th>BLK</th>\n",
       "      <th>TOV</th>\n",
       "      <th>PF</th>\n",
       "      <th>PTS</th>\n",
       "      <th>AST_TOV</th>\n",
       "      <th>STL_TOV</th>\n",
       "    </tr>\n",
       "  </thead>\n",
       "  <tbody>\n",
       "    <tr>\n",
       "      <th>5267</th>\n",
       "      <td>2019-20</td>\n",
       "      <td>Regular%20Season</td>\n",
       "      <td>1628390</td>\n",
       "      <td>Terrance Ferguson</td>\n",
       "      <td>OKC</td>\n",
       "      <td>56</td>\n",
       "      <td>1257</td>\n",
       "      <td>78</td>\n",
       "      <td>220</td>\n",
       "      <td>0.355</td>\n",
       "      <td>49</td>\n",
       "      <td>168</td>\n",
       "      <td>0.292</td>\n",
       "      <td>15</td>\n",
       "      <td>20</td>\n",
       "      <td>0.750</td>\n",
       "      <td>23</td>\n",
       "      <td>51</td>\n",
       "      <td>74</td>\n",
       "      <td>51</td>\n",
       "      <td>27</td>\n",
       "      <td>17</td>\n",
       "      <td>31</td>\n",
       "      <td>155</td>\n",
       "      <td>220</td>\n",
       "      <td>1.65</td>\n",
       "      <td>0.87</td>\n",
       "    </tr>\n",
       "    <tr>\n",
       "      <th>7224</th>\n",
       "      <td>2021-22</td>\n",
       "      <td>Playoffs</td>\n",
       "      <td>1627854</td>\n",
       "      <td>Bryn Forbes</td>\n",
       "      <td>DEN</td>\n",
       "      <td>5</td>\n",
       "      <td>76</td>\n",
       "      <td>6</td>\n",
       "      <td>15</td>\n",
       "      <td>0.400</td>\n",
       "      <td>4</td>\n",
       "      <td>11</td>\n",
       "      <td>0.364</td>\n",
       "      <td>4</td>\n",
       "      <td>5</td>\n",
       "      <td>0.800</td>\n",
       "      <td>1</td>\n",
       "      <td>2</td>\n",
       "      <td>3</td>\n",
       "      <td>7</td>\n",
       "      <td>1</td>\n",
       "      <td>0</td>\n",
       "      <td>2</td>\n",
       "      <td>7</td>\n",
       "      <td>20</td>\n",
       "      <td>3.50</td>\n",
       "      <td>0.50</td>\n",
       "    </tr>\n",
       "    <tr>\n",
       "      <th>259</th>\n",
       "      <td>2012-13</td>\n",
       "      <td>Regular%20Season</td>\n",
       "      <td>2570</td>\n",
       "      <td>Kendrick Perkins</td>\n",
       "      <td>OKC</td>\n",
       "      <td>78</td>\n",
       "      <td>1954</td>\n",
       "      <td>143</td>\n",
       "      <td>313</td>\n",
       "      <td>0.457</td>\n",
       "      <td>0</td>\n",
       "      <td>1</td>\n",
       "      <td>0.000</td>\n",
       "      <td>44</td>\n",
       "      <td>72</td>\n",
       "      <td>0.611</td>\n",
       "      <td>110</td>\n",
       "      <td>356</td>\n",
       "      <td>466</td>\n",
       "      <td>111</td>\n",
       "      <td>43</td>\n",
       "      <td>83</td>\n",
       "      <td>109</td>\n",
       "      <td>227</td>\n",
       "      <td>330</td>\n",
       "      <td>1.02</td>\n",
       "      <td>0.39</td>\n",
       "    </tr>\n",
       "    <tr>\n",
       "      <th>6609</th>\n",
       "      <td>2021-22</td>\n",
       "      <td>Regular%20Season</td>\n",
       "      <td>1629622</td>\n",
       "      <td>Max Strus</td>\n",
       "      <td>MIA</td>\n",
       "      <td>68</td>\n",
       "      <td>1587</td>\n",
       "      <td>249</td>\n",
       "      <td>564</td>\n",
       "      <td>0.441</td>\n",
       "      <td>181</td>\n",
       "      <td>442</td>\n",
       "      <td>0.410</td>\n",
       "      <td>42</td>\n",
       "      <td>53</td>\n",
       "      <td>0.792</td>\n",
       "      <td>24</td>\n",
       "      <td>178</td>\n",
       "      <td>202</td>\n",
       "      <td>92</td>\n",
       "      <td>28</td>\n",
       "      <td>16</td>\n",
       "      <td>57</td>\n",
       "      <td>116</td>\n",
       "      <td>721</td>\n",
       "      <td>1.61</td>\n",
       "      <td>0.49</td>\n",
       "    </tr>\n",
       "    <tr>\n",
       "      <th>1204</th>\n",
       "      <td>2013-14</td>\n",
       "      <td>Playoffs</td>\n",
       "      <td>1717</td>\n",
       "      <td>Dirk Nowitzki</td>\n",
       "      <td>DAL</td>\n",
       "      <td>7</td>\n",
       "      <td>263</td>\n",
       "      <td>54</td>\n",
       "      <td>126</td>\n",
       "      <td>0.429</td>\n",
       "      <td>1</td>\n",
       "      <td>12</td>\n",
       "      <td>0.083</td>\n",
       "      <td>25</td>\n",
       "      <td>31</td>\n",
       "      <td>0.806</td>\n",
       "      <td>5</td>\n",
       "      <td>51</td>\n",
       "      <td>56</td>\n",
       "      <td>11</td>\n",
       "      <td>6</td>\n",
       "      <td>6</td>\n",
       "      <td>15</td>\n",
       "      <td>20</td>\n",
       "      <td>134</td>\n",
       "      <td>0.73</td>\n",
       "      <td>0.40</td>\n",
       "    </tr>\n",
       "    <tr>\n",
       "      <th>3359</th>\n",
       "      <td>2016-17</td>\n",
       "      <td>Playoffs</td>\n",
       "      <td>1626171</td>\n",
       "      <td>Bobby Portis</td>\n",
       "      <td>CHI</td>\n",
       "      <td>6</td>\n",
       "      <td>121</td>\n",
       "      <td>17</td>\n",
       "      <td>33</td>\n",
       "      <td>0.515</td>\n",
       "      <td>6</td>\n",
       "      <td>13</td>\n",
       "      <td>0.462</td>\n",
       "      <td>0</td>\n",
       "      <td>0</td>\n",
       "      <td>0.000</td>\n",
       "      <td>5</td>\n",
       "      <td>31</td>\n",
       "      <td>36</td>\n",
       "      <td>7</td>\n",
       "      <td>3</td>\n",
       "      <td>3</td>\n",
       "      <td>6</td>\n",
       "      <td>10</td>\n",
       "      <td>40</td>\n",
       "      <td>1.17</td>\n",
       "      <td>0.50</td>\n",
       "    </tr>\n",
       "    <tr>\n",
       "      <th>6552</th>\n",
       "      <td>2021-22</td>\n",
       "      <td>Regular%20Season</td>\n",
       "      <td>203552</td>\n",
       "      <td>Seth Curry</td>\n",
       "      <td>BKN</td>\n",
       "      <td>64</td>\n",
       "      <td>2134</td>\n",
       "      <td>360</td>\n",
       "      <td>739</td>\n",
       "      <td>0.487</td>\n",
       "      <td>158</td>\n",
       "      <td>374</td>\n",
       "      <td>0.422</td>\n",
       "      <td>82</td>\n",
       "      <td>94</td>\n",
       "      <td>0.872</td>\n",
       "      <td>21</td>\n",
       "      <td>179</td>\n",
       "      <td>200</td>\n",
       "      <td>230</td>\n",
       "      <td>53</td>\n",
       "      <td>14</td>\n",
       "      <td>109</td>\n",
       "      <td>148</td>\n",
       "      <td>960</td>\n",
       "      <td>2.11</td>\n",
       "      <td>0.49</td>\n",
       "    </tr>\n",
       "    <tr>\n",
       "      <th>4993</th>\n",
       "      <td>2019-20</td>\n",
       "      <td>Regular%20Season</td>\n",
       "      <td>1626179</td>\n",
       "      <td>Terry Rozier</td>\n",
       "      <td>CHA</td>\n",
       "      <td>63</td>\n",
       "      <td>2165</td>\n",
       "      <td>398</td>\n",
       "      <td>941</td>\n",
       "      <td>0.423</td>\n",
       "      <td>172</td>\n",
       "      <td>423</td>\n",
       "      <td>0.407</td>\n",
       "      <td>166</td>\n",
       "      <td>190</td>\n",
       "      <td>0.874</td>\n",
       "      <td>50</td>\n",
       "      <td>226</td>\n",
       "      <td>276</td>\n",
       "      <td>259</td>\n",
       "      <td>61</td>\n",
       "      <td>10</td>\n",
       "      <td>141</td>\n",
       "      <td>126</td>\n",
       "      <td>1134</td>\n",
       "      <td>1.84</td>\n",
       "      <td>0.43</td>\n",
       "    </tr>\n",
       "    <tr>\n",
       "      <th>6996</th>\n",
       "      <td>2021-22</td>\n",
       "      <td>Regular%20Season</td>\n",
       "      <td>1630216</td>\n",
       "      <td>Cassius Winston</td>\n",
       "      <td>WAS</td>\n",
       "      <td>7</td>\n",
       "      <td>39</td>\n",
       "      <td>4</td>\n",
       "      <td>11</td>\n",
       "      <td>0.364</td>\n",
       "      <td>2</td>\n",
       "      <td>6</td>\n",
       "      <td>0.333</td>\n",
       "      <td>4</td>\n",
       "      <td>4</td>\n",
       "      <td>1.000</td>\n",
       "      <td>0</td>\n",
       "      <td>1</td>\n",
       "      <td>1</td>\n",
       "      <td>7</td>\n",
       "      <td>0</td>\n",
       "      <td>0</td>\n",
       "      <td>3</td>\n",
       "      <td>9</td>\n",
       "      <td>14</td>\n",
       "      <td>2.33</td>\n",
       "      <td>0.00</td>\n",
       "    </tr>\n",
       "    <tr>\n",
       "      <th>7074</th>\n",
       "      <td>2021-22</td>\n",
       "      <td>Regular%20Season</td>\n",
       "      <td>1629788</td>\n",
       "      <td>Tyler Hall</td>\n",
       "      <td>NYK</td>\n",
       "      <td>1</td>\n",
       "      <td>2</td>\n",
       "      <td>0</td>\n",
       "      <td>0</td>\n",
       "      <td>0.000</td>\n",
       "      <td>0</td>\n",
       "      <td>0</td>\n",
       "      <td>0.000</td>\n",
       "      <td>0</td>\n",
       "      <td>0</td>\n",
       "      <td>0.000</td>\n",
       "      <td>0</td>\n",
       "      <td>0</td>\n",
       "      <td>0</td>\n",
       "      <td>0</td>\n",
       "      <td>0</td>\n",
       "      <td>0</td>\n",
       "      <td>0</td>\n",
       "      <td>0</td>\n",
       "      <td>0</td>\n",
       "      <td>0.00</td>\n",
       "      <td>0.00</td>\n",
       "    </tr>\n",
       "  </tbody>\n",
       "</table>\n",
       "</div>"
      ],
      "text/plain": [
       "         Year       Season_type  PLAYER_ID             PLAYER TEAM  GP   MIN  \\\n",
       "5267  2019-20  Regular%20Season    1628390  Terrance Ferguson  OKC  56  1257   \n",
       "7224  2021-22          Playoffs    1627854        Bryn Forbes  DEN   5    76   \n",
       "259   2012-13  Regular%20Season       2570   Kendrick Perkins  OKC  78  1954   \n",
       "6609  2021-22  Regular%20Season    1629622          Max Strus  MIA  68  1587   \n",
       "1204  2013-14          Playoffs       1717      Dirk Nowitzki  DAL   7   263   \n",
       "3359  2016-17          Playoffs    1626171       Bobby Portis  CHI   6   121   \n",
       "6552  2021-22  Regular%20Season     203552         Seth Curry  BKN  64  2134   \n",
       "4993  2019-20  Regular%20Season    1626179       Terry Rozier  CHA  63  2165   \n",
       "6996  2021-22  Regular%20Season    1630216    Cassius Winston  WAS   7    39   \n",
       "7074  2021-22  Regular%20Season    1629788         Tyler Hall  NYK   1     2   \n",
       "\n",
       "      FGM  FGA  FG_PCT  FG3M  FG3A  FG3_PCT  FTM  FTA  FT_PCT  OREB  DREB  \\\n",
       "5267   78  220   0.355    49   168    0.292   15   20   0.750    23    51   \n",
       "7224    6   15   0.400     4    11    0.364    4    5   0.800     1     2   \n",
       "259   143  313   0.457     0     1    0.000   44   72   0.611   110   356   \n",
       "6609  249  564   0.441   181   442    0.410   42   53   0.792    24   178   \n",
       "1204   54  126   0.429     1    12    0.083   25   31   0.806     5    51   \n",
       "3359   17   33   0.515     6    13    0.462    0    0   0.000     5    31   \n",
       "6552  360  739   0.487   158   374    0.422   82   94   0.872    21   179   \n",
       "4993  398  941   0.423   172   423    0.407  166  190   0.874    50   226   \n",
       "6996    4   11   0.364     2     6    0.333    4    4   1.000     0     1   \n",
       "7074    0    0   0.000     0     0    0.000    0    0   0.000     0     0   \n",
       "\n",
       "      REB  AST  STL  BLK  TOV   PF   PTS  AST_TOV  STL_TOV  \n",
       "5267   74   51   27   17   31  155   220     1.65     0.87  \n",
       "7224    3    7    1    0    2    7    20     3.50     0.50  \n",
       "259   466  111   43   83  109  227   330     1.02     0.39  \n",
       "6609  202   92   28   16   57  116   721     1.61     0.49  \n",
       "1204   56   11    6    6   15   20   134     0.73     0.40  \n",
       "3359   36    7    3    3    6   10    40     1.17     0.50  \n",
       "6552  200  230   53   14  109  148   960     2.11     0.49  \n",
       "4993  276  259   61   10  141  126  1134     1.84     0.43  \n",
       "6996    1    7    0    0    3    9    14     2.33     0.00  \n",
       "7074    0    0    0    0    0    0     0     0.00     0.00  "
      ]
     },
     "execution_count": 22,
     "metadata": {},
     "output_type": "execute_result"
    }
   ],
   "source": [
    "data.sample(10)"
   ]
  },
  {
   "cell_type": "code",
   "execution_count": 30,
   "id": "e620c58d-b8d3-463d-bf50-bd2f6599c499",
   "metadata": {},
   "outputs": [
    {
     "data": {
      "text/plain": [
       "0       2012\n",
       "1       2012\n",
       "2       2012\n",
       "3       2012\n",
       "4       2012\n",
       "        ... \n",
       "7288    2021\n",
       "7289    2021\n",
       "7290    2021\n",
       "7291    2021\n",
       "7292    2021\n",
       "Name: Year, Length: 7293, dtype: int64"
      ]
     },
     "execution_count": 30,
     "metadata": {},
     "output_type": "execute_result"
    }
   ],
   "source": [
    "data['Year'].str[:4].astype(int)"
   ]
  },
  {
   "cell_type": "code",
   "execution_count": 40,
   "id": "8e1fc0f5-505a-4ca8-83b1-d99f09dd1863",
   "metadata": {},
   "outputs": [
    {
     "data": {
      "text/plain": [
       "array(['OKC', 'LAL', 'MIA', 'HOU', 'NYK', 'GSW', 'MIL', 'POR', 'TOR',\n",
       "       'BKN', 'CHA', 'LAC', 'BOS', 'UTA', 'PHI', 'IND', 'SAS', 'ATL',\n",
       "       'CLE', 'NO', 'DET', 'CHI', 'SAC', 'DAL', 'DEN', 'MEM', 'PHX',\n",
       "       'ORL', 'MIN', 'WAS'], dtype=object)"
      ]
     },
     "execution_count": 40,
     "metadata": {},
     "output_type": "execute_result"
    }
   ],
   "source": [
    "data.TEAM.unique()"
   ]
  },
  {
   "cell_type": "code",
   "execution_count": 41,
   "id": "0b673b9f-d43a-44a4-a028-3800ebfc380b",
   "metadata": {},
   "outputs": [
    {
     "data": {
      "text/plain": [
       "30"
      ]
     },
     "execution_count": 41,
     "metadata": {},
     "output_type": "execute_result"
    }
   ],
   "source": [
    "data.TEAM.nunique()"
   ]
  },
  {
   "cell_type": "code",
   "execution_count": 39,
   "id": "c8957ba3-1aa7-4a27-8848-4a111d24f418",
   "metadata": {},
   "outputs": [],
   "source": [
    "\n",
    "data['TEAM'].replace(to_replace=['NOP','NOH'],value='NO',inplace=True)"
   ]
  },
  {
   "cell_type": "code",
   "execution_count": 63,
   "id": "56c8b8ea-1259-496d-ae3e-c7575a1b9dd9",
   "metadata": {},
   "outputs": [],
   "source": [
    "data['Season_type'].replace(to_replace=['Regular%20Season'],value='RS',inplace=True)"
   ]
  },
  {
   "cell_type": "code",
   "execution_count": 6,
   "id": "f6f13b62-5a29-46cf-93a5-52fded89d4b8",
   "metadata": {},
   "outputs": [
    {
     "data": {
      "text/plain": [
       "(7293, 29)"
      ]
     },
     "execution_count": 6,
     "metadata": {},
     "output_type": "execute_result"
    }
   ],
   "source": [
    "data.shape\n"
   ]
  },
  {
   "cell_type": "markdown",
   "id": "7156da71-9059-40f4-b24d-760593b1cd52",
   "metadata": {},
   "source": [
    "### Question Preaparation for  use"
   ]
  },
  {
   "cell_type": "code",
   "execution_count": 5,
   "id": "75883f65-19c6-4e96-9bc4-b8ed1aed138d",
   "metadata": {},
   "outputs": [],
   "source": [
    "\n",
    "rs_df = data[data['Season_type']=='RS']\n",
    "playoffs_df = data[data['Season_type']=='Playoffs']"
   ]
  },
  {
   "cell_type": "code",
   "execution_count": 6,
   "id": "509c04a1-b645-4681-b576-8364d7da6f1c",
   "metadata": {},
   "outputs": [
    {
     "data": {
      "text/html": [
       "<div>\n",
       "<style scoped>\n",
       "    .dataframe tbody tr th:only-of-type {\n",
       "        vertical-align: middle;\n",
       "    }\n",
       "\n",
       "    .dataframe tbody tr th {\n",
       "        vertical-align: top;\n",
       "    }\n",
       "\n",
       "    .dataframe thead th {\n",
       "        text-align: right;\n",
       "    }\n",
       "</style>\n",
       "<table border=\"1\" class=\"dataframe\">\n",
       "  <thead>\n",
       "    <tr style=\"text-align: right;\">\n",
       "      <th></th>\n",
       "      <th>Year</th>\n",
       "      <th>Season_type</th>\n",
       "      <th>PLAYER_ID</th>\n",
       "      <th>RANK</th>\n",
       "      <th>PLAYER</th>\n",
       "      <th>TEAM</th>\n",
       "      <th>GP</th>\n",
       "      <th>MIN</th>\n",
       "      <th>FGM</th>\n",
       "      <th>FGA</th>\n",
       "      <th>FG_PCT</th>\n",
       "      <th>FG3M</th>\n",
       "      <th>FG3A</th>\n",
       "      <th>FG3_PCT</th>\n",
       "      <th>FTM</th>\n",
       "      <th>FTA</th>\n",
       "      <th>FT_PCT</th>\n",
       "      <th>OREB</th>\n",
       "      <th>DREB</th>\n",
       "      <th>REB</th>\n",
       "      <th>AST</th>\n",
       "      <th>STL</th>\n",
       "      <th>BLK</th>\n",
       "      <th>TOV</th>\n",
       "      <th>PF</th>\n",
       "      <th>PTS</th>\n",
       "      <th>EFF</th>\n",
       "      <th>AST_TOV</th>\n",
       "      <th>STL_TOV</th>\n",
       "    </tr>\n",
       "  </thead>\n",
       "  <tbody>\n",
       "    <tr>\n",
       "      <th>3619</th>\n",
       "      <td>2017-18</td>\n",
       "      <td>Regular%20Season</td>\n",
       "      <td>202340</td>\n",
       "      <td>166</td>\n",
       "      <td>Avery Bradley</td>\n",
       "      <td>LAC</td>\n",
       "      <td>46</td>\n",
       "      <td>1433</td>\n",
       "      <td>259</td>\n",
       "      <td>625</td>\n",
       "      <td>0.414</td>\n",
       "      <td>75</td>\n",
       "      <td>203</td>\n",
       "      <td>0.369</td>\n",
       "      <td>63</td>\n",
       "      <td>82</td>\n",
       "      <td>0.768</td>\n",
       "      <td>22</td>\n",
       "      <td>94</td>\n",
       "      <td>116</td>\n",
       "      <td>94</td>\n",
       "      <td>51</td>\n",
       "      <td>8</td>\n",
       "      <td>101</td>\n",
       "      <td>92</td>\n",
       "      <td>656</td>\n",
       "      <td>439</td>\n",
       "      <td>0.93</td>\n",
       "      <td>0.51</td>\n",
       "    </tr>\n",
       "    <tr>\n",
       "      <th>5781</th>\n",
       "      <td>2020-21</td>\n",
       "      <td>Regular%20Season</td>\n",
       "      <td>201144</td>\n",
       "      <td>90</td>\n",
       "      <td>Mike Conley</td>\n",
       "      <td>UTA</td>\n",
       "      <td>51</td>\n",
       "      <td>1498</td>\n",
       "      <td>284</td>\n",
       "      <td>640</td>\n",
       "      <td>0.444</td>\n",
       "      <td>138</td>\n",
       "      <td>335</td>\n",
       "      <td>0.412</td>\n",
       "      <td>121</td>\n",
       "      <td>142</td>\n",
       "      <td>0.852</td>\n",
       "      <td>36</td>\n",
       "      <td>141</td>\n",
       "      <td>177</td>\n",
       "      <td>305</td>\n",
       "      <td>70</td>\n",
       "      <td>9</td>\n",
       "      <td>99</td>\n",
       "      <td>98</td>\n",
       "      <td>827</td>\n",
       "      <td>912</td>\n",
       "      <td>3.08</td>\n",
       "      <td>0.71</td>\n",
       "    </tr>\n",
       "    <tr>\n",
       "      <th>3650</th>\n",
       "      <td>2017-18</td>\n",
       "      <td>Regular%20Season</td>\n",
       "      <td>1627854</td>\n",
       "      <td>197</td>\n",
       "      <td>Bryn Forbes</td>\n",
       "      <td>SAS</td>\n",
       "      <td>80</td>\n",
       "      <td>1517</td>\n",
       "      <td>209</td>\n",
       "      <td>497</td>\n",
       "      <td>0.421</td>\n",
       "      <td>89</td>\n",
       "      <td>228</td>\n",
       "      <td>0.390</td>\n",
       "      <td>48</td>\n",
       "      <td>72</td>\n",
       "      <td>0.667</td>\n",
       "      <td>12</td>\n",
       "      <td>98</td>\n",
       "      <td>110</td>\n",
       "      <td>80</td>\n",
       "      <td>28</td>\n",
       "      <td>2</td>\n",
       "      <td>37</td>\n",
       "      <td>108</td>\n",
       "      <td>555</td>\n",
       "      <td>426</td>\n",
       "      <td>2.16</td>\n",
       "      <td>0.76</td>\n",
       "    </tr>\n",
       "    <tr>\n",
       "      <th>5410</th>\n",
       "      <td>2019-20</td>\n",
       "      <td>Regular%20Season</td>\n",
       "      <td>1629718</td>\n",
       "      <td>464</td>\n",
       "      <td>Charlie Brown Jr.</td>\n",
       "      <td>ATL</td>\n",
       "      <td>10</td>\n",
       "      <td>40</td>\n",
       "      <td>6</td>\n",
       "      <td>19</td>\n",
       "      <td>0.316</td>\n",
       "      <td>3</td>\n",
       "      <td>9</td>\n",
       "      <td>0.333</td>\n",
       "      <td>5</td>\n",
       "      <td>5</td>\n",
       "      <td>1.000</td>\n",
       "      <td>2</td>\n",
       "      <td>2</td>\n",
       "      <td>4</td>\n",
       "      <td>2</td>\n",
       "      <td>2</td>\n",
       "      <td>2</td>\n",
       "      <td>3</td>\n",
       "      <td>3</td>\n",
       "      <td>20</td>\n",
       "      <td>14</td>\n",
       "      <td>0.67</td>\n",
       "      <td>0.67</td>\n",
       "    </tr>\n",
       "    <tr>\n",
       "      <th>6059</th>\n",
       "      <td>2020-21</td>\n",
       "      <td>Regular%20Season</td>\n",
       "      <td>1628991</td>\n",
       "      <td>368</td>\n",
       "      <td>Jaren Jackson Jr.</td>\n",
       "      <td>MEM</td>\n",
       "      <td>11</td>\n",
       "      <td>258</td>\n",
       "      <td>53</td>\n",
       "      <td>125</td>\n",
       "      <td>0.424</td>\n",
       "      <td>17</td>\n",
       "      <td>60</td>\n",
       "      <td>0.283</td>\n",
       "      <td>35</td>\n",
       "      <td>42</td>\n",
       "      <td>0.833</td>\n",
       "      <td>17</td>\n",
       "      <td>45</td>\n",
       "      <td>62</td>\n",
       "      <td>12</td>\n",
       "      <td>12</td>\n",
       "      <td>18</td>\n",
       "      <td>15</td>\n",
       "      <td>42</td>\n",
       "      <td>158</td>\n",
       "      <td>168</td>\n",
       "      <td>0.80</td>\n",
       "      <td>0.80</td>\n",
       "    </tr>\n",
       "    <tr>\n",
       "      <th>5535</th>\n",
       "      <td>2019-20</td>\n",
       "      <td>Playoffs</td>\n",
       "      <td>203914</td>\n",
       "      <td>60</td>\n",
       "      <td>Gary Harris</td>\n",
       "      <td>DEN</td>\n",
       "      <td>14</td>\n",
       "      <td>379</td>\n",
       "      <td>34</td>\n",
       "      <td>90</td>\n",
       "      <td>0.378</td>\n",
       "      <td>19</td>\n",
       "      <td>52</td>\n",
       "      <td>0.365</td>\n",
       "      <td>17</td>\n",
       "      <td>22</td>\n",
       "      <td>0.773</td>\n",
       "      <td>7</td>\n",
       "      <td>21</td>\n",
       "      <td>28</td>\n",
       "      <td>24</td>\n",
       "      <td>16</td>\n",
       "      <td>4</td>\n",
       "      <td>21</td>\n",
       "      <td>45</td>\n",
       "      <td>104</td>\n",
       "      <td>94</td>\n",
       "      <td>1.14</td>\n",
       "      <td>0.76</td>\n",
       "    </tr>\n",
       "    <tr>\n",
       "      <th>4998</th>\n",
       "      <td>2019-20</td>\n",
       "      <td>Regular%20Season</td>\n",
       "      <td>1628368</td>\n",
       "      <td>53</td>\n",
       "      <td>De'Aaron Fox</td>\n",
       "      <td>SAC</td>\n",
       "      <td>51</td>\n",
       "      <td>1634</td>\n",
       "      <td>391</td>\n",
       "      <td>815</td>\n",
       "      <td>0.480</td>\n",
       "      <td>54</td>\n",
       "      <td>185</td>\n",
       "      <td>0.292</td>\n",
       "      <td>241</td>\n",
       "      <td>342</td>\n",
       "      <td>0.705</td>\n",
       "      <td>35</td>\n",
       "      <td>161</td>\n",
       "      <td>196</td>\n",
       "      <td>348</td>\n",
       "      <td>74</td>\n",
       "      <td>25</td>\n",
       "      <td>158</td>\n",
       "      <td>145</td>\n",
       "      <td>1077</td>\n",
       "      <td>1037</td>\n",
       "      <td>2.20</td>\n",
       "      <td>0.47</td>\n",
       "    </tr>\n",
       "    <tr>\n",
       "      <th>688</th>\n",
       "      <td>2013-14</td>\n",
       "      <td>Regular%20Season</td>\n",
       "      <td>202326</td>\n",
       "      <td>12</td>\n",
       "      <td>DeMarcus Cousins</td>\n",
       "      <td>SAC</td>\n",
       "      <td>71</td>\n",
       "      <td>2298</td>\n",
       "      <td>591</td>\n",
       "      <td>1191</td>\n",
       "      <td>0.496</td>\n",
       "      <td>0</td>\n",
       "      <td>7</td>\n",
       "      <td>0.000</td>\n",
       "      <td>432</td>\n",
       "      <td>595</td>\n",
       "      <td>0.726</td>\n",
       "      <td>218</td>\n",
       "      <td>613</td>\n",
       "      <td>831</td>\n",
       "      <td>207</td>\n",
       "      <td>109</td>\n",
       "      <td>91</td>\n",
       "      <td>251</td>\n",
       "      <td>270</td>\n",
       "      <td>1614</td>\n",
       "      <td>1838</td>\n",
       "      <td>0.82</td>\n",
       "      <td>0.43</td>\n",
       "    </tr>\n",
       "    <tr>\n",
       "      <th>4796</th>\n",
       "      <td>2018-19</td>\n",
       "      <td>Playoffs</td>\n",
       "      <td>1627763</td>\n",
       "      <td>63</td>\n",
       "      <td>Malcolm Brogdon</td>\n",
       "      <td>MIL</td>\n",
       "      <td>7</td>\n",
       "      <td>198</td>\n",
       "      <td>35</td>\n",
       "      <td>78</td>\n",
       "      <td>0.449</td>\n",
       "      <td>14</td>\n",
       "      <td>37</td>\n",
       "      <td>0.378</td>\n",
       "      <td>7</td>\n",
       "      <td>11</td>\n",
       "      <td>0.636</td>\n",
       "      <td>6</td>\n",
       "      <td>28</td>\n",
       "      <td>34</td>\n",
       "      <td>24</td>\n",
       "      <td>5</td>\n",
       "      <td>1</td>\n",
       "      <td>10</td>\n",
       "      <td>16</td>\n",
       "      <td>91</td>\n",
       "      <td>98</td>\n",
       "      <td>2.40</td>\n",
       "      <td>0.50</td>\n",
       "    </tr>\n",
       "    <tr>\n",
       "      <th>5005</th>\n",
       "      <td>2019-20</td>\n",
       "      <td>Regular%20Season</td>\n",
       "      <td>202331</td>\n",
       "      <td>59</td>\n",
       "      <td>Paul George</td>\n",
       "      <td>LAC</td>\n",
       "      <td>48</td>\n",
       "      <td>1419</td>\n",
       "      <td>343</td>\n",
       "      <td>782</td>\n",
       "      <td>0.439</td>\n",
       "      <td>157</td>\n",
       "      <td>381</td>\n",
       "      <td>0.412</td>\n",
       "      <td>190</td>\n",
       "      <td>217</td>\n",
       "      <td>0.876</td>\n",
       "      <td>24</td>\n",
       "      <td>248</td>\n",
       "      <td>272</td>\n",
       "      <td>185</td>\n",
       "      <td>68</td>\n",
       "      <td>20</td>\n",
       "      <td>125</td>\n",
       "      <td>113</td>\n",
       "      <td>1033</td>\n",
       "      <td>987</td>\n",
       "      <td>1.48</td>\n",
       "      <td>0.54</td>\n",
       "    </tr>\n",
       "  </tbody>\n",
       "</table>\n",
       "</div>"
      ],
      "text/plain": [
       "         Year       Season_type  PLAYER_ID  RANK             PLAYER TEAM  GP  \\\n",
       "3619  2017-18  Regular%20Season     202340   166      Avery Bradley  LAC  46   \n",
       "5781  2020-21  Regular%20Season     201144    90        Mike Conley  UTA  51   \n",
       "3650  2017-18  Regular%20Season    1627854   197        Bryn Forbes  SAS  80   \n",
       "5410  2019-20  Regular%20Season    1629718   464  Charlie Brown Jr.  ATL  10   \n",
       "6059  2020-21  Regular%20Season    1628991   368  Jaren Jackson Jr.  MEM  11   \n",
       "5535  2019-20          Playoffs     203914    60        Gary Harris  DEN  14   \n",
       "4998  2019-20  Regular%20Season    1628368    53       De'Aaron Fox  SAC  51   \n",
       "688   2013-14  Regular%20Season     202326    12   DeMarcus Cousins  SAC  71   \n",
       "4796  2018-19          Playoffs    1627763    63    Malcolm Brogdon  MIL   7   \n",
       "5005  2019-20  Regular%20Season     202331    59        Paul George  LAC  48   \n",
       "\n",
       "       MIN  FGM   FGA  FG_PCT  FG3M  FG3A  FG3_PCT  FTM  FTA  FT_PCT  OREB  \\\n",
       "3619  1433  259   625   0.414    75   203    0.369   63   82   0.768    22   \n",
       "5781  1498  284   640   0.444   138   335    0.412  121  142   0.852    36   \n",
       "3650  1517  209   497   0.421    89   228    0.390   48   72   0.667    12   \n",
       "5410    40    6    19   0.316     3     9    0.333    5    5   1.000     2   \n",
       "6059   258   53   125   0.424    17    60    0.283   35   42   0.833    17   \n",
       "5535   379   34    90   0.378    19    52    0.365   17   22   0.773     7   \n",
       "4998  1634  391   815   0.480    54   185    0.292  241  342   0.705    35   \n",
       "688   2298  591  1191   0.496     0     7    0.000  432  595   0.726   218   \n",
       "4796   198   35    78   0.449    14    37    0.378    7   11   0.636     6   \n",
       "5005  1419  343   782   0.439   157   381    0.412  190  217   0.876    24   \n",
       "\n",
       "      DREB  REB  AST  STL  BLK  TOV   PF   PTS   EFF  AST_TOV  STL_TOV  \n",
       "3619    94  116   94   51    8  101   92   656   439     0.93     0.51  \n",
       "5781   141  177  305   70    9   99   98   827   912     3.08     0.71  \n",
       "3650    98  110   80   28    2   37  108   555   426     2.16     0.76  \n",
       "5410     2    4    2    2    2    3    3    20    14     0.67     0.67  \n",
       "6059    45   62   12   12   18   15   42   158   168     0.80     0.80  \n",
       "5535    21   28   24   16    4   21   45   104    94     1.14     0.76  \n",
       "4998   161  196  348   74   25  158  145  1077  1037     2.20     0.47  \n",
       "688    613  831  207  109   91  251  270  1614  1838     0.82     0.43  \n",
       "4796    28   34   24    5    1   10   16    91    98     2.40     0.50  \n",
       "5005   248  272  185   68   20  125  113  1033   987     1.48     0.54  "
      ]
     },
     "execution_count": 6,
     "metadata": {},
     "output_type": "execute_result"
    }
   ],
   "source": [
    "data.sample(10)"
   ]
  },
  {
   "cell_type": "code",
   "execution_count": 13,
   "id": "d1bb9fc2-9ee4-491f-af89-d4ad3bf419a4",
   "metadata": {},
   "outputs": [
    {
     "data": {
      "text/plain": [
       "Index(['Year', 'Season_type', 'PLAYER_ID', 'RANK', 'PLAYER', 'TEAM', 'GP',\n",
       "       'MIN', 'FGM', 'FGA', 'FG_PCT', 'FG3M', 'FG3A', 'FG3_PCT', 'FTM', 'FTA',\n",
       "       'FT_PCT', 'OREB', 'DREB', 'REB', 'AST', 'STL', 'BLK', 'TOV', 'PF',\n",
       "       'PTS', 'EFF', 'AST_TOV', 'STL_TOV'],\n",
       "      dtype='object')"
      ]
     },
     "execution_count": 13,
     "metadata": {},
     "output_type": "execute_result"
    }
   ],
   "source": [
    "data.columns"
   ]
  },
  {
   "cell_type": "code",
   "execution_count": 45,
   "id": "f6676d65-3a42-4c97-a533-ccc87c932f6d",
   "metadata": {},
   "outputs": [],
   "source": [
    "total_cols=['MIN', 'FGM', 'FGA', 'FG_PCT', 'FG3M', 'FG3A', 'FG3_PCT', 'FTM', 'FTA',\n",
    "       'FT_PCT', 'OREB', 'DREB', 'REB', 'AST', 'STL', 'BLK', 'TOV', 'PF',\n",
    "       'PTS']\n"
   ]
  },
  {
   "cell_type": "code",
   "execution_count": 20,
   "id": "f9cf4bfb-029e-4af2-9b1c-ea90fd9fa7ee",
   "metadata": {},
   "outputs": [
    {
     "data": {
      "text/plain": [
       "<bound method DataFrame.corr of          Year       Season_type  PLAYER_ID  RANK           PLAYER TEAM  GP  \\\n",
       "0     2012-13  Regular%20Season     201142     1     Kevin Durant  OKC  81   \n",
       "1     2012-13  Regular%20Season        977     2      Kobe Bryant  LAL  78   \n",
       "2     2012-13  Regular%20Season       2544     3     LeBron James  MIA  76   \n",
       "3     2012-13  Regular%20Season     201935     4     James Harden  HOU  78   \n",
       "4     2012-13  Regular%20Season       2546     5  Carmelo Anthony  NYK  67   \n",
       "...       ...               ...        ...   ...              ...  ...  ..   \n",
       "7288  2021-22          Playoffs    1629006   206      Josh Okogie  MIN   1   \n",
       "7289  2021-22          Playoffs    1630556   206  Kessler Edwards  BKN   2   \n",
       "7290  2021-22          Playoffs    1630201   206    Malachi Flynn  TOR   6   \n",
       "7291  2021-22          Playoffs     202693   206  Markieff Morris  MIA   2   \n",
       "7292  2021-22          Playoffs     200794   206     Paul Millsap  PHI   1   \n",
       "\n",
       "       MIN  FGM   FGA  FG_PCT  FG3M  FG3A  FG3_PCT  FTM  FTA  FT_PCT  OREB  \\\n",
       "0     3119  731  1433   0.510   139   334    0.416  679  750   0.905    46   \n",
       "1     3013  738  1595   0.463   132   407    0.324  525  626   0.839    66   \n",
       "2     2877  765  1354   0.565   103   254    0.406  403  535   0.753    97   \n",
       "3     2985  585  1337   0.438   179   486    0.368  674  792   0.851    62   \n",
       "4     2482  669  1489   0.449   157   414    0.379  425  512   0.830   134   \n",
       "...    ...  ...   ...     ...   ...   ...      ...  ...  ...     ...   ...   \n",
       "7288     2    0     0   0.000     0     0    0.000    0    0   0.000     0   \n",
       "7289     7    0     0   0.000     0     0    0.000    0    0   0.000     0   \n",
       "7290    36    0     7   0.000     0     3    0.000    0    0   0.000     2   \n",
       "7291     3    0     1   0.000     0     0    0.000    0    0   0.000     0   \n",
       "7292     6    0     0   0.000     0     0    0.000    0    0   0.000     0   \n",
       "\n",
       "      DREB  REB  AST  STL  BLK  TOV   PF   PTS   EFF  AST_TOV  STL_TOV  \n",
       "0      594  640  374  116  105  280  143  2280  2462     1.34     0.41  \n",
       "1      367  433  469  106   25  287  173  2133  1921     1.63     0.37  \n",
       "2      513  610  551  129   67  226  110  2036  2446     2.44     0.57  \n",
       "3      317  379  455  142   38  295  178  2023  1872     1.54     0.48  \n",
       "4      326  460  171   52   32  175  205  1920  1553     0.98     0.30  \n",
       "...    ...  ...  ...  ...  ...  ...  ...   ...   ...      ...      ...  \n",
       "7288     0    0    0    0    0    0    0     0     0     0.00     0.00  \n",
       "7289     0    0    1    1    0    1    3     0     1     1.00     1.00  \n",
       "7290     1    3    3    1    0    1    6     0    -1     3.00     1.00  \n",
       "7291     1    1    0    0    0    1    2     0    -1     0.00     0.00  \n",
       "7292     1    1    1    0    0    0    1     0     2     0.00     0.00  \n",
       "\n",
       "[7293 rows x 29 columns]>"
      ]
     },
     "execution_count": 20,
     "metadata": {},
     "output_type": "execute_result"
    }
   ],
   "source": [
    "data.corr"
   ]
  },
  {
   "cell_type": "code",
   "execution_count": 52,
   "id": "117e90ed-e93a-4a28-b36d-3c4f6a410ce3",
   "metadata": {},
   "outputs": [
    {
     "data": {
      "application/vnd.plotly.v1+json": {
       "config": {
        "plotlyServerURL": "https://plot.ly"
       },
       "data": [
        {
         "coloraxis": "coloraxis",
         "hovertemplate": "x: %{x}<br>y: %{y}<br>color: %{z}<extra></extra>",
         "name": "0",
         "type": "heatmap",
         "x": [
          "MIN",
          "FGM",
          "FGA",
          "FG_PCT",
          "FG3M",
          "FG3A",
          "FG3_PCT",
          "FTM",
          "FTA",
          "FT_PCT",
          "OREB",
          "DREB",
          "REB",
          "AST",
          "STL",
          "BLK",
          "TOV",
          "PF",
          "PTS",
          "FG%",
          "3PT%",
          "FT%",
          "FG3A%",
          "PTS/FGA",
          "FG3M/FGM",
          "FTA/FGA",
          "TRU%",
          "AST_TOV"
         ],
         "xaxis": "x",
         "y": [
          "MIN",
          "FGM",
          "FGA",
          "FG_PCT",
          "FG3M",
          "FG3A",
          "FG3_PCT",
          "FTM",
          "FTA",
          "FT_PCT",
          "OREB",
          "DREB",
          "REB",
          "AST",
          "STL",
          "BLK",
          "TOV",
          "PF",
          "PTS",
          "FG%",
          "3PT%",
          "FT%",
          "FG3A%",
          "PTS/FGA",
          "FG3M/FGM",
          "FTA/FGA",
          "TRU%",
          "AST_TOV"
         ],
         "yaxis": "y",
         "z": [
          [
           1,
           0.4333327256949777,
           0.34903585324482167,
           -0.5361485478533644,
           0.17808858253891763,
           0.09653263601444634,
           -0.3928042448319258,
           0.3412873799095989,
           0.27032814395027976,
           -0.5395951264813766,
           -0.10723913662096196,
           0.04337194557255486,
           -0.016957289820265127,
           0.2441285883550467,
           0.06836322189192671,
           -0.05298257779868077,
           0.13978895204172648,
           -0.38510591998139054,
           0.45990040808139915,
           0.21304090563100161,
           0.16844308468212513,
           0.25595616836165286,
           -0.024284510547973207,
           0.2698125213842093,
           0.004087943012649655,
           0.0197305608248226,
           0.33883597306549895,
           0.0815345021534757
          ],
          [
           0.4333327256949777,
           1,
           0.8730055557095369,
           -0.1638635019805718,
           0.18043891678642818,
           0.12805106807266045,
           -0.13386073129348391,
           0.6064170925046641,
           0.5608877468556295,
           -0.20604019206717533,
           0.0837265127315947,
           0.22403574516116276,
           0.1835770202980766,
           0.21916183429064512,
           -0.01878250639100065,
           0.07456225663774613,
           0.39414557024089764,
           -0.19553785240897326,
           0.9561695110484774,
           0.40610665748048785,
           0.11677031339338517,
           0.22549636369552878,
           -0.22648003271143935,
           0.3440038422943398,
           -0.21427433181157804,
           0.030657029050671983,
           0.4220427911415783,
           -0.09554277118376187
          ],
          [
           0.34903585324482167,
           0.8730055557095369,
           1,
           -0.16025318362239363,
           0.4094386555245501,
           0.4277948672476143,
           -0.03995384263834014,
           0.5491250193424262,
           0.4579847595923321,
           -0.11157940211351652,
           -0.20812052422133206,
           -0.017604605657200883,
           -0.10013145741129613,
           0.3294160304174089,
           0.02989584418510393,
           -0.16745102141630033,
           0.41931064609992913,
           -0.32297986183007577,
           0.8968830020889149,
           -0.06553063369714875,
           0.16950977678108026,
           0.3265901644587344,
           0.04938246112599893,
           -0.029820125168464887,
           0.040824844454824816,
           -0.1387165696345,
           0.04558178315362503,
           0.020899792103641165
          ],
          [
           -0.5361485478533644,
           -0.1638635019805718,
           -0.16025318362239363,
           1,
           -0.12896351580724127,
           -0.08654456836429089,
           0.648850117352301,
           -0.11446159794122518,
           -0.04814211929535147,
           0.7321791581175293,
           0.11460812321506986,
           0.020322217007675836,
           0.06215996007116688,
           -0.15409785226114042,
           -0.050223830349922276,
           0.07149828438387212,
           -0.012759365021117922,
           0.24644025437039488,
           -0.18336373304669637,
           0.0009622927896076945,
           -0.11206547188234177,
           -0.2191919163543198,
           -0.05576059567313259,
           -0.01823565042003166,
           -0.07369033582081051,
           0.11227998421775649,
           -0.09666427687663331,
           -0.06470253928530105
          ],
          [
           0.17808858253891763,
           0.18043891678642818,
           0.4094386555245501,
           -0.12896351580724127,
           1,
           0.9581480204561199,
           0.17080521975739985,
           -0.026343481245467704,
           -0.16934196776070395,
           -0.07018239758721219,
           -0.6206382546273013,
           -0.39872916037303874,
           -0.5272826276714216,
           0.1595180443098924,
           0.0027766387253599445,
           -0.43930941964954257,
           -0.072549222908587,
           -0.4003840570068175,
           0.3485898501488736,
           -0.36838466401393904,
           0.5779776508083284,
           0.4038773876092499,
           0.8455282594309318,
           -0.07491961111478337,
           0.8685262676830032,
           -0.3995163771444317,
           0.1408923559566597,
           0.23446306342236123
          ],
          [
           0.09653263601444634,
           0.12805106807266045,
           0.4277948672476143,
           -0.08654456836429089,
           0.9581480204561199,
           1,
           0.16984503420330485,
           -0.04091683957995135,
           -0.1817713068061862,
           -0.0014489614658232046,
           -0.6549590690098208,
           -0.4269371730244302,
           -0.5605086054968071,
           0.18009882996811052,
           0.030083962998325078,
           -0.4664254280708305,
           -0.04982719552616572,
           -0.3958548765455536,
           0.29634514553620245,
           -0.4998869850688262,
           0.46582844219282754,
           0.3839515065233941,
           0.8866610075492636,
           -0.21727904405647822,
           0.8546122137489226,
           -0.4242189740217315,
           -0.030552488812638695,
           0.2503941857820912
          ],
          [
           -0.3928042448319258,
           -0.13386073129348391,
           -0.03995384263834014,
           0.648850117352301,
           0.17080521975739985,
           0.16984503420330485,
           1,
           -0.1350714078781741,
           -0.13035894533415981,
           0.5123774319661538,
           -0.12621924914249905,
           -0.11390547106439487,
           -0.1289078848687156,
           -0.05681458845386567,
           -0.028069222048197024,
           -0.11428082413853653,
           -0.060174021813275774,
           0.022400567541814242,
           -0.10036688170405389,
           -0.18868080524048733,
           0.23036024638794306,
           -0.06859200164229377,
           0.2145406128637444,
           -0.1207354806276679,
           0.24926477668286998,
           -0.09483508610731,
           -0.1032326478063491,
           0.06205186280770606
          ],
          [
           0.3412873799095989,
           0.6064170925046641,
           0.5491250193424262,
           -0.11446159794122518,
           -0.026343481245467704,
           -0.04091683957995135,
           -0.1350714078781741,
           1,
           0.9513148290569983,
           -0.023481116820801392,
           0.10133965040028112,
           0.19489806530055395,
           0.17182208510257532,
           0.24657269424072292,
           0.04075463165988836,
           0.07314741687743485,
           0.4543908229016799,
           -0.08568969655897431,
           0.7365938369913929,
           0.2059778632382898,
           -0.0047174961764360895,
           0.28372106681949705,
           -0.2867587156257586,
           0.490115262146766,
           -0.2825793806158052,
           0.590675300194071,
           0.28782240470640125,
           -0.09992578415507322
          ],
          [
           0.27032814395027976,
           0.5608877468556295,
           0.4579847595923321,
           -0.04814211929535147,
           -0.16934196776070395,
           -0.1817713068061862,
           -0.13035894533415981,
           0.9513148290569983,
           1,
           -0.01784083727908974,
           0.25228455578832754,
           0.2962126620019499,
           0.3029285582800322,
           0.16915347170133646,
           0.04132390415252553,
           0.18760358343730363,
           0.45768545872366356,
           0.020942434062416002,
           0.6566974944106745,
           0.2871171856688906,
           -0.09431003031826483,
           0.02926827986308222,
           -0.4101734214041972,
           0.5125548430473694,
           -0.4018150488809002,
           0.7086763424898864,
           0.25092631884986366,
           -0.18086240256961156
          ],
          [
           -0.5395951264813766,
           -0.20604019206717533,
           -0.11157940211351652,
           0.7321791581175293,
           -0.07018239758721219,
           -0.0014489614658232046,
           0.5123774319661538,
           -0.023481116820801392,
           -0.01784083727908974,
           1,
           0.012776602647750745,
           -0.06301034757893968,
           -0.03618404738058704,
           -0.0972363228812601,
           -0.030007348625483585,
           -0.013526184472259633,
           -0.0028608119627388964,
           0.19955031675766915,
           -0.1743601832693508,
           -0.19551314937524267,
           -0.12442365922171902,
           0.06591880527252907,
           0.028298592044129833,
           -0.1007133491038477,
           -0.0028484544574189437,
           0.12442436552906341,
           -0.20443406015593052,
           -0.012755423972995153
          ],
          [
           -0.10723913662096196,
           0.0837265127315947,
           -0.20812052422133206,
           0.11460812321506986,
           -0.6206382546273013,
           -0.6549590690098208,
           -0.12621924914249905,
           0.10133965040028112,
           0.25228455578832754,
           0.012776602647750745,
           1,
           0.6816614266225731,
           0.8754796611668305,
           -0.3900618010830383,
           -0.13471900205036086,
           0.6184198019572112,
           -0.008294770492431896,
           0.4919740700733208,
           -0.04707686581232335,
           0.5608447454064459,
           -0.4143119725415618,
           -0.3756952721948539,
           -0.6636812542421486,
           0.3412040607613144,
           -0.6320582848162597,
           0.3978862793722684,
           0.2020897664938065,
           -0.4328348124496792
          ],
          [
           0.04337194557255486,
           0.22403574516116276,
           -0.017604605657200883,
           0.020322217007675836,
           -0.39872916037303874,
           -0.4269371730244302,
           -0.11390547106439487,
           0.19489806530055395,
           0.2962126620019499,
           -0.06301034757893968,
           0.6816614266225731,
           1,
           0.9503627900164167,
           -0.2468476271633095,
           -0.13245056653630036,
           0.5519689184978724,
           0.10568255506699997,
           0.3294089356039187,
           0.13353063178171798,
           0.47553164593584063,
           -0.25646739165092725,
           -0.24810301072361926,
           -0.4753080982011335,
           0.3315220067577109,
           -0.45849677567129005,
           0.30780617564798635,
           0.23973290568049055,
           -0.35630144971635347
          ],
          [
           -0.016957289820265127,
           0.1835770202980766,
           -0.10013145741129613,
           0.06215996007116688,
           -0.5272826276714216,
           -0.5605086054968071,
           -0.1289078848687156,
           0.17182208510257532,
           0.3029285582800322,
           -0.03618404738058704,
           0.8754796611668305,
           0.9503627900164167,
           1,
           -0.3289139323132629,
           -0.14477117293766506,
           0.6275516580410085,
           0.06627427778593135,
           0.42678287580647173,
           0.06817528606345975,
           0.5525820794721038,
           -0.34378962748872177,
           -0.3235521890363573,
           -0.5961659719246605,
           0.3640631149110065,
           -0.5716145943751487,
           0.3725034720099514,
           0.2442790846146572,
           -0.41883870361051473
          ],
          [
           0.2441285883550467,
           0.21916183429064512,
           0.3294160304174089,
           -0.15409785226114042,
           0.1595180443098924,
           0.18009882996811052,
           -0.05681458845386567,
           0.24657269424072292,
           0.16915347170133646,
           -0.0972363228812601,
           -0.3900618010830383,
           -0.2468476271633095,
           -0.3289139323132629,
           1,
           0.3123058966273523,
           -0.33805051619842946,
           0.5857523437878828,
           -0.30938902734314505,
           0.27000898492963493,
           -0.17099139272417746,
           0.1078424419192513,
           0.21099677571058376,
           0.0716997331049365,
           -0.09812862240632841,
           0.05045335906914121,
           -0.0648139458531914,
           -0.08755734146143647,
           0.6095639861919199
          ],
          [
           0.06836322189192671,
           -0.01878250639100065,
           0.02989584418510393,
           -0.050223830349922276,
           0.0027766387253599445,
           0.030083962998325078,
           -0.028069222048197024,
           0.04075463165988836,
           0.04132390415252553,
           -0.030007348625483585,
           -0.13471900205036086,
           -0.13245056653630036,
           -0.14477117293766506,
           0.3123058966273523,
           1,
           -0.08775905360416787,
           0.19772035301733915,
           -0.02616355049863217,
           -0.0011501898394251522,
           -0.09859821956181915,
           -0.009304192474929328,
           -0.025241886066652404,
           0.02940442880260225,
           -0.08275271541287733,
           0.0034664508978810783,
           -0.009458191200015642,
           -0.0945733765826157,
           0.18282471754539267
          ],
          [
           -0.05298257779868077,
           0.07456225663774613,
           -0.16745102141630033,
           0.07149828438387212,
           -0.43930941964954257,
           -0.4664254280708305,
           -0.11428082413853653,
           0.07314741687743485,
           0.18760358343730363,
           -0.013526184472259633,
           0.6184198019572112,
           0.5519689184978724,
           0.6275516580410085,
           -0.33805051619842946,
           -0.08775905360416787,
           1,
           -0.022961747081279942,
           0.4295436465025206,
           -0.02163871674727818,
           0.47374291925686773,
           -0.2723540601889123,
           -0.30553593169360244,
           -0.4753435293509413,
           0.3051908809607583,
           -0.4525971079595036,
           0.296209438172417,
           0.2134650119394333,
           -0.36142553846844466
          ],
          [
           0.13978895204172648,
           0.39414557024089764,
           0.41931064609992913,
           -0.012759365021117922,
           -0.072549222908587,
           -0.04982719552616572,
           -0.060174021813275774,
           0.4543908229016799,
           0.45768545872366356,
           -0.0028608119627388964,
           -0.008294770492431896,
           0.10568255506699997,
           0.06627427778593135,
           0.5857523437878828,
           0.19772035301733915,
           -0.022961747081279942,
           1,
           0.04863545559028953,
           0.4084929699236213,
           0.027284153494131498,
           -0.061396719128264624,
           0.03477200115798711,
           -0.24174343465030657,
           0.04428373990066318,
           -0.2558980546409547,
           0.18884644251722496,
           -0.04945807833290363,
           -0.13697070850968182
          ],
          [
           -0.38510591998139054,
           -0.19553785240897326,
           -0.32297986183007577,
           0.24644025437039488,
           -0.4003840570068175,
           -0.3958548765455536,
           0.022400567541814242,
           -0.08568969655897431,
           0.020942434062416002,
           0.19955031675766915,
           0.4919740700733208,
           0.3294089356039187,
           0.42678287580647173,
           -0.30938902734314505,
           -0.02616355049863217,
           0.4295436465025206,
           0.04863545559028953,
           1,
           -0.25883994382795816,
           0.21322265743850757,
           -0.28035110223719073,
           -0.29993926281252,
           -0.33746564530920525,
           0.11093458370775462,
           -0.331227646042185,
           0.2560661195484224,
           -0.008012077806682744,
           -0.3611674387055539
          ],
          [
           0.45990040808139915,
           0.9561695110484774,
           0.8968830020889149,
           -0.18336373304669637,
           0.3485898501488736,
           0.29634514553620245,
           -0.10036688170405389,
           0.7365938369913929,
           0.6566974944106745,
           -0.1743601832693508,
           -0.04707686581232335,
           0.13353063178171798,
           0.06817528606345975,
           0.27000898492963493,
           -0.0011501898394251522,
           -0.02163871674727818,
           0.4084929699236213,
           -0.25883994382795816,
           1,
           0.2776660430434055,
           0.21008682145825813,
           0.3406568130779085,
           -0.06264903680168661,
           0.38161134000873176,
           -0.04728381697855049,
           0.1080742301283514,
           0.4274511676044653,
           -0.047441613518672966
          ],
          [
           0.21304090563100161,
           0.40610665748048785,
           -0.06553063369714875,
           0.0009622927896076945,
           -0.36838466401393904,
           -0.4998869850688262,
           -0.18868080524048733,
           0.2059778632382898,
           0.2871171856688906,
           -0.19551314937524267,
           0.5608447454064459,
           0.47553164593584063,
           0.5525820794721038,
           -0.17099139272417746,
           -0.09859821956181915,
           0.47374291925686773,
           0.027284153494131498,
           0.21322265743850757,
           0.2776660430434055,
           1,
           -0.07922872894725008,
           -0.15924210534846714,
           -0.5667458076413358,
           0.7957163153145073,
           -0.5215111751209757,
           0.3344136707209615,
           0.8122537756232279,
           -0.252204023890388
          ],
          [
           0.16844308468212513,
           0.11677031339338517,
           0.16950977678108026,
           -0.11206547188234177,
           0.5779776508083284,
           0.46582844219282754,
           0.23036024638794306,
           -0.0047174961764360895,
           -0.09431003031826483,
           -0.12442365922171902,
           -0.4143119725415618,
           -0.25646739165092725,
           -0.34378962748872177,
           0.1078424419192513,
           -0.009304192474929328,
           -0.2723540601889123,
           -0.061396719128264624,
           -0.28035110223719073,
           0.21008682145825813,
           -0.07922872894725008,
           1,
           0.27101720869255824,
           0.45672114228675403,
           0.13052686729540117,
           0.5246925750023562,
           -0.24431066394977588,
           0.27671826218823137,
           0.15604204393542717
          ],
          [
           0.25595616836165286,
           0.22549636369552878,
           0.3265901644587344,
           -0.2191919163543198,
           0.4038773876092499,
           0.3839515065233941,
           -0.06859200164229377,
           0.28372106681949705,
           0.02926827986308222,
           0.06591880527252907,
           -0.3756952721948539,
           -0.24810301072361926,
           -0.3235521890363573,
           0.21099677571058376,
           -0.025241886066652404,
           -0.30553593169360244,
           0.03477200115798711,
           -0.29993926281252,
           0.3406568130779085,
           -0.15924210534846714,
           0.27101720869255824,
           1,
           0.31172292080734515,
           0.08888705571662205,
           0.31566584155943483,
           -0.17755502329203096,
           0.21863781922134634,
           0.19891932470778864
          ],
          [
           -0.024284510547973207,
           -0.22648003271143935,
           0.04938246112599893,
           -0.05576059567313259,
           0.8455282594309318,
           0.8866610075492636,
           0.2145406128637444,
           -0.2867587156257586,
           -0.4101734214041972,
           0.028298592044129833,
           -0.6636812542421486,
           -0.4753080982011335,
           -0.5961659719246605,
           0.0716997331049365,
           0.02940442880260225,
           -0.4753435293509413,
           -0.24174343465030657,
           -0.33746564530920525,
           -0.06264903680168661,
           -0.5667458076413358,
           0.45672114228675403,
           0.31172292080734515,
           1,
           -0.2757200926605028,
           0.9646387356553158,
           -0.47388288830548336,
           -0.0768271357974206,
           0.30167442481910384
          ],
          [
           0.2698125213842093,
           0.3440038422943398,
           -0.029820125168464887,
           -0.01823565042003166,
           -0.07491961111478337,
           -0.21727904405647822,
           -0.1207354806276679,
           0.490115262146766,
           0.5125548430473694,
           -0.1007133491038477,
           0.3412040607613144,
           0.3315220067577109,
           0.3640631149110065,
           -0.09812862240632841,
           -0.08275271541287733,
           0.3051908809607583,
           0.04428373990066318,
           0.11093458370775462,
           0.38161134000873176,
           0.7957163153145073,
           0.13052686729540117,
           0.08888705571662205,
           -0.2757200926605028,
           1,
           -0.21879061731006502,
           0.6402988714281915,
           0.890151381862078,
           -0.17647357426499422
          ],
          [
           0.004087943012649655,
           -0.21427433181157804,
           0.040824844454824816,
           -0.07369033582081051,
           0.8685262676830032,
           0.8546122137489226,
           0.24926477668286998,
           -0.2825793806158052,
           -0.4018150488809002,
           -0.0028484544574189437,
           -0.6320582848162597,
           -0.45849677567129005,
           -0.5716145943751487,
           0.05045335906914121,
           0.0034664508978810783,
           -0.4525971079595036,
           -0.2558980546409547,
           -0.331227646042185,
           -0.04728381697855049,
           -0.5215111751209757,
           0.5246925750023562,
           0.31566584155943483,
           0.9646387356553158,
           -0.21879061731006502,
           1,
           -0.4549383547064031,
           -0.014765851687362778,
           0.2888704562986622
          ],
          [
           0.0197305608248226,
           0.030657029050671983,
           -0.1387165696345,
           0.11227998421775649,
           -0.3995163771444317,
           -0.4242189740217315,
           -0.09483508610731,
           0.590675300194071,
           0.7086763424898864,
           0.12442436552906341,
           0.3978862793722684,
           0.30780617564798635,
           0.3725034720099514,
           -0.0648139458531914,
           -0.009458191200015642,
           0.296209438172417,
           0.18884644251722496,
           0.2560661195484224,
           0.1080742301283514,
           0.3344136707209615,
           -0.24431066394977588,
           -0.17755502329203096,
           -0.47388288830548336,
           0.6402988714281915,
           -0.4549383547064031,
           1,
           0.22741452277105692,
           -0.22649063635052072
          ],
          [
           0.33883597306549895,
           0.4220427911415783,
           0.04558178315362503,
           -0.09666427687663331,
           0.1408923559566597,
           -0.030552488812638695,
           -0.1032326478063491,
           0.28782240470640125,
           0.25092631884986366,
           -0.20443406015593052,
           0.2020897664938065,
           0.23973290568049055,
           0.2442790846146572,
           -0.08755734146143647,
           -0.0945733765826157,
           0.2134650119394333,
           -0.04945807833290363,
           -0.008012077806682744,
           0.4274511676044653,
           0.8122537756232279,
           0.27671826218823137,
           0.21863781922134634,
           -0.0768271357974206,
           0.890151381862078,
           -0.014765851687362778,
           0.22741452277105692,
           1,
           -0.09727987766510926
          ],
          [
           0.0815345021534757,
           -0.09554277118376187,
           0.020899792103641165,
           -0.06470253928530105,
           0.23446306342236123,
           0.2503941857820912,
           0.06205186280770606,
           -0.09992578415507322,
           -0.18086240256961156,
           -0.012755423972995153,
           -0.4328348124496792,
           -0.35630144971635347,
           -0.41883870361051473,
           0.6095639861919199,
           0.18282471754539267,
           -0.36142553846844466,
           -0.13697070850968182,
           -0.3611674387055539,
           -0.047441613518672966,
           -0.252204023890388,
           0.15604204393542717,
           0.19891932470778864,
           0.30167442481910384,
           -0.17647357426499422,
           0.2888704562986622,
           -0.22649063635052072,
           -0.09727987766510926,
           1
          ]
         ]
        }
       ],
       "layout": {
        "autosize": true,
        "coloraxis": {
         "colorscale": [
          [
           0,
           "#0d0887"
          ],
          [
           0.1111111111111111,
           "#46039f"
          ],
          [
           0.2222222222222222,
           "#7201a8"
          ],
          [
           0.3333333333333333,
           "#9c179e"
          ],
          [
           0.4444444444444444,
           "#bd3786"
          ],
          [
           0.5555555555555556,
           "#d8576b"
          ],
          [
           0.6666666666666666,
           "#ed7953"
          ],
          [
           0.7777777777777778,
           "#fb9f3a"
          ],
          [
           0.8888888888888888,
           "#fdca26"
          ],
          [
           1,
           "#f0f921"
          ]
         ]
        },
        "margin": {
         "t": 60
        },
        "template": {
         "data": {
          "bar": [
           {
            "error_x": {
             "color": "#2a3f5f"
            },
            "error_y": {
             "color": "#2a3f5f"
            },
            "marker": {
             "line": {
              "color": "#E5ECF6",
              "width": 0.5
             },
             "pattern": {
              "fillmode": "overlay",
              "size": 10,
              "solidity": 0.2
             }
            },
            "type": "bar"
           }
          ],
          "barpolar": [
           {
            "marker": {
             "line": {
              "color": "#E5ECF6",
              "width": 0.5
             },
             "pattern": {
              "fillmode": "overlay",
              "size": 10,
              "solidity": 0.2
             }
            },
            "type": "barpolar"
           }
          ],
          "carpet": [
           {
            "aaxis": {
             "endlinecolor": "#2a3f5f",
             "gridcolor": "white",
             "linecolor": "white",
             "minorgridcolor": "white",
             "startlinecolor": "#2a3f5f"
            },
            "baxis": {
             "endlinecolor": "#2a3f5f",
             "gridcolor": "white",
             "linecolor": "white",
             "minorgridcolor": "white",
             "startlinecolor": "#2a3f5f"
            },
            "type": "carpet"
           }
          ],
          "choropleth": [
           {
            "colorbar": {
             "outlinewidth": 0,
             "ticks": ""
            },
            "type": "choropleth"
           }
          ],
          "contour": [
           {
            "colorbar": {
             "outlinewidth": 0,
             "ticks": ""
            },
            "colorscale": [
             [
              0,
              "#0d0887"
             ],
             [
              0.1111111111111111,
              "#46039f"
             ],
             [
              0.2222222222222222,
              "#7201a8"
             ],
             [
              0.3333333333333333,
              "#9c179e"
             ],
             [
              0.4444444444444444,
              "#bd3786"
             ],
             [
              0.5555555555555556,
              "#d8576b"
             ],
             [
              0.6666666666666666,
              "#ed7953"
             ],
             [
              0.7777777777777778,
              "#fb9f3a"
             ],
             [
              0.8888888888888888,
              "#fdca26"
             ],
             [
              1,
              "#f0f921"
             ]
            ],
            "type": "contour"
           }
          ],
          "contourcarpet": [
           {
            "colorbar": {
             "outlinewidth": 0,
             "ticks": ""
            },
            "type": "contourcarpet"
           }
          ],
          "heatmap": [
           {
            "colorbar": {
             "outlinewidth": 0,
             "ticks": ""
            },
            "colorscale": [
             [
              0,
              "#0d0887"
             ],
             [
              0.1111111111111111,
              "#46039f"
             ],
             [
              0.2222222222222222,
              "#7201a8"
             ],
             [
              0.3333333333333333,
              "#9c179e"
             ],
             [
              0.4444444444444444,
              "#bd3786"
             ],
             [
              0.5555555555555556,
              "#d8576b"
             ],
             [
              0.6666666666666666,
              "#ed7953"
             ],
             [
              0.7777777777777778,
              "#fb9f3a"
             ],
             [
              0.8888888888888888,
              "#fdca26"
             ],
             [
              1,
              "#f0f921"
             ]
            ],
            "type": "heatmap"
           }
          ],
          "heatmapgl": [
           {
            "colorbar": {
             "outlinewidth": 0,
             "ticks": ""
            },
            "colorscale": [
             [
              0,
              "#0d0887"
             ],
             [
              0.1111111111111111,
              "#46039f"
             ],
             [
              0.2222222222222222,
              "#7201a8"
             ],
             [
              0.3333333333333333,
              "#9c179e"
             ],
             [
              0.4444444444444444,
              "#bd3786"
             ],
             [
              0.5555555555555556,
              "#d8576b"
             ],
             [
              0.6666666666666666,
              "#ed7953"
             ],
             [
              0.7777777777777778,
              "#fb9f3a"
             ],
             [
              0.8888888888888888,
              "#fdca26"
             ],
             [
              1,
              "#f0f921"
             ]
            ],
            "type": "heatmapgl"
           }
          ],
          "histogram": [
           {
            "marker": {
             "pattern": {
              "fillmode": "overlay",
              "size": 10,
              "solidity": 0.2
             }
            },
            "type": "histogram"
           }
          ],
          "histogram2d": [
           {
            "colorbar": {
             "outlinewidth": 0,
             "ticks": ""
            },
            "colorscale": [
             [
              0,
              "#0d0887"
             ],
             [
              0.1111111111111111,
              "#46039f"
             ],
             [
              0.2222222222222222,
              "#7201a8"
             ],
             [
              0.3333333333333333,
              "#9c179e"
             ],
             [
              0.4444444444444444,
              "#bd3786"
             ],
             [
              0.5555555555555556,
              "#d8576b"
             ],
             [
              0.6666666666666666,
              "#ed7953"
             ],
             [
              0.7777777777777778,
              "#fb9f3a"
             ],
             [
              0.8888888888888888,
              "#fdca26"
             ],
             [
              1,
              "#f0f921"
             ]
            ],
            "type": "histogram2d"
           }
          ],
          "histogram2dcontour": [
           {
            "colorbar": {
             "outlinewidth": 0,
             "ticks": ""
            },
            "colorscale": [
             [
              0,
              "#0d0887"
             ],
             [
              0.1111111111111111,
              "#46039f"
             ],
             [
              0.2222222222222222,
              "#7201a8"
             ],
             [
              0.3333333333333333,
              "#9c179e"
             ],
             [
              0.4444444444444444,
              "#bd3786"
             ],
             [
              0.5555555555555556,
              "#d8576b"
             ],
             [
              0.6666666666666666,
              "#ed7953"
             ],
             [
              0.7777777777777778,
              "#fb9f3a"
             ],
             [
              0.8888888888888888,
              "#fdca26"
             ],
             [
              1,
              "#f0f921"
             ]
            ],
            "type": "histogram2dcontour"
           }
          ],
          "mesh3d": [
           {
            "colorbar": {
             "outlinewidth": 0,
             "ticks": ""
            },
            "type": "mesh3d"
           }
          ],
          "parcoords": [
           {
            "line": {
             "colorbar": {
              "outlinewidth": 0,
              "ticks": ""
             }
            },
            "type": "parcoords"
           }
          ],
          "pie": [
           {
            "automargin": true,
            "type": "pie"
           }
          ],
          "scatter": [
           {
            "fillpattern": {
             "fillmode": "overlay",
             "size": 10,
             "solidity": 0.2
            },
            "type": "scatter"
           }
          ],
          "scatter3d": [
           {
            "line": {
             "colorbar": {
              "outlinewidth": 0,
              "ticks": ""
             }
            },
            "marker": {
             "colorbar": {
              "outlinewidth": 0,
              "ticks": ""
             }
            },
            "type": "scatter3d"
           }
          ],
          "scattercarpet": [
           {
            "marker": {
             "colorbar": {
              "outlinewidth": 0,
              "ticks": ""
             }
            },
            "type": "scattercarpet"
           }
          ],
          "scattergeo": [
           {
            "marker": {
             "colorbar": {
              "outlinewidth": 0,
              "ticks": ""
             }
            },
            "type": "scattergeo"
           }
          ],
          "scattergl": [
           {
            "marker": {
             "colorbar": {
              "outlinewidth": 0,
              "ticks": ""
             }
            },
            "type": "scattergl"
           }
          ],
          "scattermapbox": [
           {
            "marker": {
             "colorbar": {
              "outlinewidth": 0,
              "ticks": ""
             }
            },
            "type": "scattermapbox"
           }
          ],
          "scatterpolar": [
           {
            "marker": {
             "colorbar": {
              "outlinewidth": 0,
              "ticks": ""
             }
            },
            "type": "scatterpolar"
           }
          ],
          "scatterpolargl": [
           {
            "marker": {
             "colorbar": {
              "outlinewidth": 0,
              "ticks": ""
             }
            },
            "type": "scatterpolargl"
           }
          ],
          "scatterternary": [
           {
            "marker": {
             "colorbar": {
              "outlinewidth": 0,
              "ticks": ""
             }
            },
            "type": "scatterternary"
           }
          ],
          "surface": [
           {
            "colorbar": {
             "outlinewidth": 0,
             "ticks": ""
            },
            "colorscale": [
             [
              0,
              "#0d0887"
             ],
             [
              0.1111111111111111,
              "#46039f"
             ],
             [
              0.2222222222222222,
              "#7201a8"
             ],
             [
              0.3333333333333333,
              "#9c179e"
             ],
             [
              0.4444444444444444,
              "#bd3786"
             ],
             [
              0.5555555555555556,
              "#d8576b"
             ],
             [
              0.6666666666666666,
              "#ed7953"
             ],
             [
              0.7777777777777778,
              "#fb9f3a"
             ],
             [
              0.8888888888888888,
              "#fdca26"
             ],
             [
              1,
              "#f0f921"
             ]
            ],
            "type": "surface"
           }
          ],
          "table": [
           {
            "cells": {
             "fill": {
              "color": "#EBF0F8"
             },
             "line": {
              "color": "white"
             }
            },
            "header": {
             "fill": {
              "color": "#C8D4E3"
             },
             "line": {
              "color": "white"
             }
            },
            "type": "table"
           }
          ]
         },
         "layout": {
          "annotationdefaults": {
           "arrowcolor": "#2a3f5f",
           "arrowhead": 0,
           "arrowwidth": 1
          },
          "autotypenumbers": "strict",
          "coloraxis": {
           "colorbar": {
            "outlinewidth": 0,
            "ticks": ""
           }
          },
          "colorscale": {
           "diverging": [
            [
             0,
             "#8e0152"
            ],
            [
             0.1,
             "#c51b7d"
            ],
            [
             0.2,
             "#de77ae"
            ],
            [
             0.3,
             "#f1b6da"
            ],
            [
             0.4,
             "#fde0ef"
            ],
            [
             0.5,
             "#f7f7f7"
            ],
            [
             0.6,
             "#e6f5d0"
            ],
            [
             0.7,
             "#b8e186"
            ],
            [
             0.8,
             "#7fbc41"
            ],
            [
             0.9,
             "#4d9221"
            ],
            [
             1,
             "#276419"
            ]
           ],
           "sequential": [
            [
             0,
             "#0d0887"
            ],
            [
             0.1111111111111111,
             "#46039f"
            ],
            [
             0.2222222222222222,
             "#7201a8"
            ],
            [
             0.3333333333333333,
             "#9c179e"
            ],
            [
             0.4444444444444444,
             "#bd3786"
            ],
            [
             0.5555555555555556,
             "#d8576b"
            ],
            [
             0.6666666666666666,
             "#ed7953"
            ],
            [
             0.7777777777777778,
             "#fb9f3a"
            ],
            [
             0.8888888888888888,
             "#fdca26"
            ],
            [
             1,
             "#f0f921"
            ]
           ],
           "sequentialminus": [
            [
             0,
             "#0d0887"
            ],
            [
             0.1111111111111111,
             "#46039f"
            ],
            [
             0.2222222222222222,
             "#7201a8"
            ],
            [
             0.3333333333333333,
             "#9c179e"
            ],
            [
             0.4444444444444444,
             "#bd3786"
            ],
            [
             0.5555555555555556,
             "#d8576b"
            ],
            [
             0.6666666666666666,
             "#ed7953"
            ],
            [
             0.7777777777777778,
             "#fb9f3a"
            ],
            [
             0.8888888888888888,
             "#fdca26"
            ],
            [
             1,
             "#f0f921"
            ]
           ]
          },
          "colorway": [
           "#636efa",
           "#EF553B",
           "#00cc96",
           "#ab63fa",
           "#FFA15A",
           "#19d3f3",
           "#FF6692",
           "#B6E880",
           "#FF97FF",
           "#FECB52"
          ],
          "font": {
           "color": "#2a3f5f"
          },
          "geo": {
           "bgcolor": "white",
           "lakecolor": "white",
           "landcolor": "#E5ECF6",
           "showlakes": true,
           "showland": true,
           "subunitcolor": "white"
          },
          "hoverlabel": {
           "align": "left"
          },
          "hovermode": "closest",
          "mapbox": {
           "style": "light"
          },
          "paper_bgcolor": "white",
          "plot_bgcolor": "#E5ECF6",
          "polar": {
           "angularaxis": {
            "gridcolor": "white",
            "linecolor": "white",
            "ticks": ""
           },
           "bgcolor": "#E5ECF6",
           "radialaxis": {
            "gridcolor": "white",
            "linecolor": "white",
            "ticks": ""
           }
          },
          "scene": {
           "xaxis": {
            "backgroundcolor": "#E5ECF6",
            "gridcolor": "white",
            "gridwidth": 2,
            "linecolor": "white",
            "showbackground": true,
            "ticks": "",
            "zerolinecolor": "white"
           },
           "yaxis": {
            "backgroundcolor": "#E5ECF6",
            "gridcolor": "white",
            "gridwidth": 2,
            "linecolor": "white",
            "showbackground": true,
            "ticks": "",
            "zerolinecolor": "white"
           },
           "zaxis": {
            "backgroundcolor": "#E5ECF6",
            "gridcolor": "white",
            "gridwidth": 2,
            "linecolor": "white",
            "showbackground": true,
            "ticks": "",
            "zerolinecolor": "white"
           }
          },
          "shapedefaults": {
           "line": {
            "color": "#2a3f5f"
           }
          },
          "ternary": {
           "aaxis": {
            "gridcolor": "white",
            "linecolor": "white",
            "ticks": ""
           },
           "baxis": {
            "gridcolor": "white",
            "linecolor": "white",
            "ticks": ""
           },
           "bgcolor": "#E5ECF6",
           "caxis": {
            "gridcolor": "white",
            "linecolor": "white",
            "ticks": ""
           }
          },
          "title": {
           "x": 0.05
          },
          "xaxis": {
           "automargin": true,
           "gridcolor": "white",
           "linecolor": "white",
           "ticks": "",
           "title": {
            "standoff": 15
           },
           "zerolinecolor": "white",
           "zerolinewidth": 2
          },
          "yaxis": {
           "automargin": true,
           "gridcolor": "white",
           "linecolor": "white",
           "ticks": "",
           "title": {
            "standoff": 15
           },
           "zerolinecolor": "white",
           "zerolinewidth": 2
          }
         }
        },
        "xaxis": {
         "anchor": "y",
         "autorange": true,
         "constrain": "domain",
         "domain": [
          0.36553030303030304,
          0.634469696969697
         ],
         "range": [
          -0.5,
          27.5
         ],
         "scaleanchor": "y",
         "type": "category"
        },
        "yaxis": {
         "anchor": "x",
         "autorange": true,
         "constrain": "domain",
         "domain": [
          0,
          1
         ],
         "range": [
          27.5,
          -0.5
         ],
         "type": "category"
        }
       }
      },
      "image/png": "[encoded data removed]",
      "text/html": [
       "<div>                            <div id=\"6f03c5ff-21f3-4ec3-b252-5c97ef00f1b5\" class=\"plotly-graph-div\" style=\"height:525px; width:100%;\"></div>            <script type=\"text/javascript\">                require([\"plotly\"], function(Plotly) {                    window.PLOTLYENV=window.PLOTLYENV || {};                                    if (document.getElementById(\"6f03c5ff-21f3-4ec3-b252-5c97ef00f1b5\")) {                    Plotly.newPlot(                        \"6f03c5ff-21f3-4ec3-b252-5c97ef00f1b5\",                        [{\"coloraxis\":\"coloraxis\",\"name\":\"0\",\"x\":[\"MIN\",\"FGM\",\"FGA\",\"FG_PCT\",\"FG3M\",\"FG3A\",\"FG3_PCT\",\"FTM\",\"FTA\",\"FT_PCT\",\"OREB\",\"DREB\",\"REB\",\"AST\",\"STL\",\"BLK\",\"TOV\",\"PF\",\"PTS\",\"FG%\",\"3PT%\",\"FT%\",\"FG3A%\",\"PTS\\u002fFGA\",\"FG3M\\u002fFGM\",\"FTA\\u002fFGA\",\"TRU%\",\"AST_TOV\"],\"y\":[\"MIN\",\"FGM\",\"FGA\",\"FG_PCT\",\"FG3M\",\"FG3A\",\"FG3_PCT\",\"FTM\",\"FTA\",\"FT_PCT\",\"OREB\",\"DREB\",\"REB\",\"AST\",\"STL\",\"BLK\",\"TOV\",\"PF\",\"PTS\",\"FG%\",\"3PT%\",\"FT%\",\"FG3A%\",\"PTS\\u002fFGA\",\"FG3M\\u002fFGM\",\"FTA\\u002fFGA\",\"TRU%\",\"AST_TOV\"],\"z\":[[1.0,0.4333327256949777,0.34903585324482167,-0.5361485478533644,0.17808858253891763,0.09653263601444634,-0.3928042448319258,0.3412873799095989,0.27032814395027976,-0.5395951264813766,-0.10723913662096196,0.04337194557255486,-0.016957289820265127,0.2441285883550467,0.06836322189192671,-0.05298257779868077,0.13978895204172648,-0.38510591998139054,0.45990040808139915,0.21304090563100161,0.16844308468212513,0.25595616836165286,-0.024284510547973207,0.2698125213842093,0.004087943012649655,0.0197305608248226,0.33883597306549895,0.0815345021534757],[0.4333327256949777,1.0,0.8730055557095369,-0.1638635019805718,0.18043891678642818,0.12805106807266045,-0.13386073129348391,0.6064170925046641,0.5608877468556295,-0.20604019206717533,0.0837265127315947,0.22403574516116276,0.1835770202980766,0.21916183429064512,-0.01878250639100065,0.07456225663774613,0.39414557024089764,-0.19553785240897326,0.9561695110484774,0.40610665748048785,0.11677031339338517,0.22549636369552878,-0.22648003271143935,0.3440038422943398,-0.21427433181157804,0.030657029050671983,0.4220427911415783,-0.09554277118376187],[0.34903585324482167,0.8730055557095369,1.0,-0.16025318362239363,0.4094386555245501,0.4277948672476143,-0.03995384263834014,0.5491250193424262,0.4579847595923321,-0.11157940211351652,-0.20812052422133206,-0.017604605657200883,-0.10013145741129613,0.3294160304174089,0.02989584418510393,-0.16745102141630033,0.41931064609992913,-0.32297986183007577,0.8968830020889149,-0.06553063369714875,0.16950977678108026,0.3265901644587344,0.04938246112599893,-0.029820125168464887,0.040824844454824816,-0.1387165696345,0.04558178315362503,0.020899792103641165],[-0.5361485478533644,-0.1638635019805718,-0.16025318362239363,1.0,-0.12896351580724127,-0.08654456836429089,0.648850117352301,-0.11446159794122518,-0.04814211929535147,0.7321791581175293,0.11460812321506986,0.020322217007675836,0.06215996007116688,-0.15409785226114042,-0.050223830349922276,0.07149828438387212,-0.012759365021117922,0.24644025437039488,-0.18336373304669637,0.0009622927896076945,-0.11206547188234177,-0.2191919163543198,-0.05576059567313259,-0.01823565042003166,-0.07369033582081051,0.11227998421775649,-0.09666427687663331,-0.06470253928530105],[0.17808858253891763,0.18043891678642818,0.4094386555245501,-0.12896351580724127,1.0,0.9581480204561199,0.17080521975739985,-0.026343481245467704,-0.16934196776070395,-0.07018239758721219,-0.6206382546273013,-0.39872916037303874,-0.5272826276714216,0.1595180443098924,0.0027766387253599445,-0.43930941964954257,-0.072549222908587,-0.4003840570068175,0.3485898501488736,-0.36838466401393904,0.5779776508083284,0.4038773876092499,0.8455282594309318,-0.07491961111478337,0.8685262676830032,-0.3995163771444317,0.1408923559566597,0.23446306342236123],[0.09653263601444634,0.12805106807266045,0.4277948672476143,-0.08654456836429089,0.9581480204561199,1.0,0.16984503420330485,-0.04091683957995135,-0.1817713068061862,-0.0014489614658232046,-0.6549590690098208,-0.4269371730244302,-0.5605086054968071,0.18009882996811052,0.030083962998325078,-0.4664254280708305,-0.04982719552616572,-0.3958548765455536,0.29634514553620245,-0.4998869850688262,0.46582844219282754,0.3839515065233941,0.8866610075492636,-0.21727904405647822,0.8546122137489226,-0.4242189740217315,-0.030552488812638695,0.2503941857820912],[-0.3928042448319258,-0.13386073129348391,-0.03995384263834014,0.648850117352301,0.17080521975739985,0.16984503420330485,1.0,-0.1350714078781741,-0.13035894533415981,0.5123774319661538,-0.12621924914249905,-0.11390547106439487,-0.1289078848687156,-0.05681458845386567,-0.028069222048197024,-0.11428082413853653,-0.060174021813275774,0.022400567541814242,-0.10036688170405389,-0.18868080524048733,0.23036024638794306,-0.06859200164229377,0.2145406128637444,-0.1207354806276679,0.24926477668286998,-0.09483508610731,-0.1032326478063491,0.06205186280770606],[0.3412873799095989,0.6064170925046641,0.5491250193424262,-0.11446159794122518,-0.026343481245467704,-0.04091683957995135,-0.1350714078781741,1.0,0.9513148290569983,-0.023481116820801392,0.10133965040028112,0.19489806530055395,0.17182208510257532,0.24657269424072292,0.04075463165988836,0.07314741687743485,0.4543908229016799,-0.08568969655897431,0.7365938369913929,0.2059778632382898,-0.0047174961764360895,0.28372106681949705,-0.2867587156257586,0.490115262146766,-0.2825793806158052,0.590675300194071,0.28782240470640125,-0.09992578415507322],[0.27032814395027976,0.5608877468556295,0.4579847595923321,-0.04814211929535147,-0.16934196776070395,-0.1817713068061862,-0.13035894533415981,0.9513148290569983,1.0,-0.01784083727908974,0.25228455578832754,0.2962126620019499,0.3029285582800322,0.16915347170133646,0.04132390415252553,0.18760358343730363,0.45768545872366356,0.020942434062416002,0.6566974944106745,0.2871171856688906,-0.09431003031826483,0.02926827986308222,-0.4101734214041972,0.5125548430473694,-0.4018150488809002,0.7086763424898864,0.25092631884986366,-0.18086240256961156],[-0.5395951264813766,-0.20604019206717533,-0.11157940211351652,0.7321791581175293,-0.07018239758721219,-0.0014489614658232046,0.5123774319661538,-0.023481116820801392,-0.01784083727908974,1.0,0.012776602647750745,-0.06301034757893968,-0.03618404738058704,-0.0972363228812601,-0.030007348625483585,-0.013526184472259633,-0.0028608119627388964,0.19955031675766915,-0.1743601832693508,-0.19551314937524267,-0.12442365922171902,0.06591880527252907,0.028298592044129833,-0.1007133491038477,-0.0028484544574189437,0.12442436552906341,-0.20443406015593052,-0.012755423972995153],[-0.10723913662096196,0.0837265127315947,-0.20812052422133206,0.11460812321506986,-0.6206382546273013,-0.6549590690098208,-0.12621924914249905,0.10133965040028112,0.25228455578832754,0.012776602647750745,1.0,0.6816614266225731,0.8754796611668305,-0.3900618010830383,-0.13471900205036086,0.6184198019572112,-0.008294770492431896,0.4919740700733208,-0.04707686581232335,0.5608447454064459,-0.4143119725415618,-0.3756952721948539,-0.6636812542421486,0.3412040607613144,-0.6320582848162597,0.3978862793722684,0.2020897664938065,-0.4328348124496792],[0.04337194557255486,0.22403574516116276,-0.017604605657200883,0.020322217007675836,-0.39872916037303874,-0.4269371730244302,-0.11390547106439487,0.19489806530055395,0.2962126620019499,-0.06301034757893968,0.6816614266225731,1.0,0.9503627900164167,-0.2468476271633095,-0.13245056653630036,0.5519689184978724,0.10568255506699997,0.3294089356039187,0.13353063178171798,0.47553164593584063,-0.25646739165092725,-0.24810301072361926,-0.4753080982011335,0.3315220067577109,-0.45849677567129005,0.30780617564798635,0.23973290568049055,-0.35630144971635347],[-0.016957289820265127,0.1835770202980766,-0.10013145741129613,0.06215996007116688,-0.5272826276714216,-0.5605086054968071,-0.1289078848687156,0.17182208510257532,0.3029285582800322,-0.03618404738058704,0.8754796611668305,0.9503627900164167,1.0,-0.3289139323132629,-0.14477117293766506,0.6275516580410085,0.06627427778593135,0.42678287580647173,0.06817528606345975,0.5525820794721038,-0.34378962748872177,-0.3235521890363573,-0.5961659719246605,0.3640631149110065,-0.5716145943751487,0.3725034720099514,0.2442790846146572,-0.41883870361051473],[0.2441285883550467,0.21916183429064512,0.3294160304174089,-0.15409785226114042,0.1595180443098924,0.18009882996811052,-0.05681458845386567,0.24657269424072292,0.16915347170133646,-0.0972363228812601,-0.3900618010830383,-0.2468476271633095,-0.3289139323132629,1.0,0.3123058966273523,-0.33805051619842946,0.5857523437878828,-0.30938902734314505,0.27000898492963493,-0.17099139272417746,0.1078424419192513,0.21099677571058376,0.0716997331049365,-0.09812862240632841,0.05045335906914121,-0.0648139458531914,-0.08755734146143647,0.6095639861919199],[0.06836322189192671,-0.01878250639100065,0.02989584418510393,-0.050223830349922276,0.0027766387253599445,0.030083962998325078,-0.028069222048197024,0.04075463165988836,0.04132390415252553,-0.030007348625483585,-0.13471900205036086,-0.13245056653630036,-0.14477117293766506,0.3123058966273523,1.0,-0.08775905360416787,0.19772035301733915,-0.02616355049863217,-0.0011501898394251522,-0.09859821956181915,-0.009304192474929328,-0.025241886066652404,0.02940442880260225,-0.08275271541287733,0.0034664508978810783,-0.009458191200015642,-0.0945733765826157,0.18282471754539267],[-0.05298257779868077,0.07456225663774613,-0.16745102141630033,0.07149828438387212,-0.43930941964954257,-0.4664254280708305,-0.11428082413853653,0.07314741687743485,0.18760358343730363,-0.013526184472259633,0.6184198019572112,0.5519689184978724,0.6275516580410085,-0.33805051619842946,-0.08775905360416787,1.0,-0.022961747081279942,0.4295436465025206,-0.02163871674727818,0.47374291925686773,-0.2723540601889123,-0.30553593169360244,-0.4753435293509413,0.3051908809607583,-0.4525971079595036,0.296209438172417,0.2134650119394333,-0.36142553846844466],[0.13978895204172648,0.39414557024089764,0.41931064609992913,-0.012759365021117922,-0.072549222908587,-0.04982719552616572,-0.060174021813275774,0.4543908229016799,0.45768545872366356,-0.0028608119627388964,-0.008294770492431896,0.10568255506699997,0.06627427778593135,0.5857523437878828,0.19772035301733915,-0.022961747081279942,1.0,0.04863545559028953,0.4084929699236213,0.027284153494131498,-0.061396719128264624,0.03477200115798711,-0.24174343465030657,0.04428373990066318,-0.2558980546409547,0.18884644251722496,-0.04945807833290363,-0.13697070850968182],[-0.38510591998139054,-0.19553785240897326,-0.32297986183007577,0.24644025437039488,-0.4003840570068175,-0.3958548765455536,0.022400567541814242,-0.08568969655897431,0.020942434062416002,0.19955031675766915,0.4919740700733208,0.3294089356039187,0.42678287580647173,-0.30938902734314505,-0.02616355049863217,0.4295436465025206,0.04863545559028953,1.0,-0.25883994382795816,0.21322265743850757,-0.28035110223719073,-0.29993926281252,-0.33746564530920525,0.11093458370775462,-0.331227646042185,0.2560661195484224,-0.008012077806682744,-0.3611674387055539],[0.45990040808139915,0.9561695110484774,0.8968830020889149,-0.18336373304669637,0.3485898501488736,0.29634514553620245,-0.10036688170405389,0.7365938369913929,0.6566974944106745,-0.1743601832693508,-0.04707686581232335,0.13353063178171798,0.06817528606345975,0.27000898492963493,-0.0011501898394251522,-0.02163871674727818,0.4084929699236213,-0.25883994382795816,1.0,0.2776660430434055,0.21008682145825813,0.3406568130779085,-0.06264903680168661,0.38161134000873176,-0.04728381697855049,0.1080742301283514,0.4274511676044653,-0.047441613518672966],[0.21304090563100161,0.40610665748048785,-0.06553063369714875,0.0009622927896076945,-0.36838466401393904,-0.4998869850688262,-0.18868080524048733,0.2059778632382898,0.2871171856688906,-0.19551314937524267,0.5608447454064459,0.47553164593584063,0.5525820794721038,-0.17099139272417746,-0.09859821956181915,0.47374291925686773,0.027284153494131498,0.21322265743850757,0.2776660430434055,1.0,-0.07922872894725008,-0.15924210534846714,-0.5667458076413358,0.7957163153145073,-0.5215111751209757,0.3344136707209615,0.8122537756232279,-0.252204023890388],[0.16844308468212513,0.11677031339338517,0.16950977678108026,-0.11206547188234177,0.5779776508083284,0.46582844219282754,0.23036024638794306,-0.0047174961764360895,-0.09431003031826483,-0.12442365922171902,-0.4143119725415618,-0.25646739165092725,-0.34378962748872177,0.1078424419192513,-0.009304192474929328,-0.2723540601889123,-0.061396719128264624,-0.28035110223719073,0.21008682145825813,-0.07922872894725008,1.0,0.27101720869255824,0.45672114228675403,0.13052686729540117,0.5246925750023562,-0.24431066394977588,0.27671826218823137,0.15604204393542717],[0.25595616836165286,0.22549636369552878,0.3265901644587344,-0.2191919163543198,0.4038773876092499,0.3839515065233941,-0.06859200164229377,0.28372106681949705,0.02926827986308222,0.06591880527252907,-0.3756952721948539,-0.24810301072361926,-0.3235521890363573,0.21099677571058376,-0.025241886066652404,-0.30553593169360244,0.03477200115798711,-0.29993926281252,0.3406568130779085,-0.15924210534846714,0.27101720869255824,1.0,0.31172292080734515,0.08888705571662205,0.31566584155943483,-0.17755502329203096,0.21863781922134634,0.19891932470778864],[-0.024284510547973207,-0.22648003271143935,0.04938246112599893,-0.05576059567313259,0.8455282594309318,0.8866610075492636,0.2145406128637444,-0.2867587156257586,-0.4101734214041972,0.028298592044129833,-0.6636812542421486,-0.4753080982011335,-0.5961659719246605,0.0716997331049365,0.02940442880260225,-0.4753435293509413,-0.24174343465030657,-0.33746564530920525,-0.06264903680168661,-0.5667458076413358,0.45672114228675403,0.31172292080734515,1.0,-0.2757200926605028,0.9646387356553158,-0.47388288830548336,-0.0768271357974206,0.30167442481910384],[0.2698125213842093,0.3440038422943398,-0.029820125168464887,-0.01823565042003166,-0.07491961111478337,-0.21727904405647822,-0.1207354806276679,0.490115262146766,0.5125548430473694,-0.1007133491038477,0.3412040607613144,0.3315220067577109,0.3640631149110065,-0.09812862240632841,-0.08275271541287733,0.3051908809607583,0.04428373990066318,0.11093458370775462,0.38161134000873176,0.7957163153145073,0.13052686729540117,0.08888705571662205,-0.2757200926605028,1.0,-0.21879061731006502,0.6402988714281915,0.890151381862078,-0.17647357426499422],[0.004087943012649655,-0.21427433181157804,0.040824844454824816,-0.07369033582081051,0.8685262676830032,0.8546122137489226,0.24926477668286998,-0.2825793806158052,-0.4018150488809002,-0.0028484544574189437,-0.6320582848162597,-0.45849677567129005,-0.5716145943751487,0.05045335906914121,0.0034664508978810783,-0.4525971079595036,-0.2558980546409547,-0.331227646042185,-0.04728381697855049,-0.5215111751209757,0.5246925750023562,0.31566584155943483,0.9646387356553158,-0.21879061731006502,1.0,-0.4549383547064031,-0.014765851687362778,0.2888704562986622],[0.0197305608248226,0.030657029050671983,-0.1387165696345,0.11227998421775649,-0.3995163771444317,-0.4242189740217315,-0.09483508610731,0.590675300194071,0.7086763424898864,0.12442436552906341,0.3978862793722684,0.30780617564798635,0.3725034720099514,-0.0648139458531914,-0.009458191200015642,0.296209438172417,0.18884644251722496,0.2560661195484224,0.1080742301283514,0.3344136707209615,-0.24431066394977588,-0.17755502329203096,-0.47388288830548336,0.6402988714281915,-0.4549383547064031,1.0,0.22741452277105692,-0.22649063635052072],[0.33883597306549895,0.4220427911415783,0.04558178315362503,-0.09666427687663331,0.1408923559566597,-0.030552488812638695,-0.1032326478063491,0.28782240470640125,0.25092631884986366,-0.20443406015593052,0.2020897664938065,0.23973290568049055,0.2442790846146572,-0.08755734146143647,-0.0945733765826157,0.2134650119394333,-0.04945807833290363,-0.008012077806682744,0.4274511676044653,0.8122537756232279,0.27671826218823137,0.21863781922134634,-0.0768271357974206,0.890151381862078,-0.014765851687362778,0.22741452277105692,1.0,-0.09727987766510926],[0.0815345021534757,-0.09554277118376187,0.020899792103641165,-0.06470253928530105,0.23446306342236123,0.2503941857820912,0.06205186280770606,-0.09992578415507322,-0.18086240256961156,-0.012755423972995153,-0.4328348124496792,-0.35630144971635347,-0.41883870361051473,0.6095639861919199,0.18282471754539267,-0.36142553846844466,-0.13697070850968182,-0.3611674387055539,-0.047441613518672966,-0.252204023890388,0.15604204393542717,0.19891932470778864,0.30167442481910384,-0.17647357426499422,0.2888704562986622,-0.22649063635052072,-0.09727987766510926,1.0]],\"type\":\"heatmap\",\"xaxis\":\"x\",\"yaxis\":\"y\",\"hovertemplate\":\"x: %{x}\\u003cbr\\u003ey: %{y}\\u003cbr\\u003ecolor: %{z}\\u003cextra\\u003e\\u003c\\u002fextra\\u003e\"}],                        {\"template\":{\"data\":{\"histogram2dcontour\":[{\"type\":\"histogram2dcontour\",\"colorbar\":{\"outlinewidth\":0,\"ticks\":\"\"},\"colorscale\":[[0.0,\"#0d0887\"],[0.1111111111111111,\"#46039f\"],[0.2222222222222222,\"#7201a8\"],[0.3333333333333333,\"#9c179e\"],[0.4444444444444444,\"#bd3786\"],[0.5555555555555556,\"#d8576b\"],[0.6666666666666666,\"#ed7953\"],[0.7777777777777778,\"#fb9f3a\"],[0.8888888888888888,\"#fdca26\"],[1.0,\"#f0f921\"]]}],\"choropleth\":[{\"type\":\"choropleth\",\"colorbar\":{\"outlinewidth\":0,\"ticks\":\"\"}}],\"histogram2d\":[{\"type\":\"histogram2d\",\"colorbar\":{\"outlinewidth\":0,\"ticks\":\"\"},\"colorscale\":[[0.0,\"#0d0887\"],[0.1111111111111111,\"#46039f\"],[0.2222222222222222,\"#7201a8\"],[0.3333333333333333,\"#9c179e\"],[0.4444444444444444,\"#bd3786\"],[0.5555555555555556,\"#d8576b\"],[0.6666666666666666,\"#ed7953\"],[0.7777777777777778,\"#fb9f3a\"],[0.8888888888888888,\"#fdca26\"],[1.0,\"#f0f921\"]]}],\"heatmap\":[{\"type\":\"heatmap\",\"colorbar\":{\"outlinewidth\":0,\"ticks\":\"\"},\"colorscale\":[[0.0,\"#0d0887\"],[0.1111111111111111,\"#46039f\"],[0.2222222222222222,\"#7201a8\"],[0.3333333333333333,\"#9c179e\"],[0.4444444444444444,\"#bd3786\"],[0.5555555555555556,\"#d8576b\"],[0.6666666666666666,\"#ed7953\"],[0.7777777777777778,\"#fb9f3a\"],[0.8888888888888888,\"#fdca26\"],[1.0,\"#f0f921\"]]}],\"heatmapgl\":[{\"type\":\"heatmapgl\",\"colorbar\":{\"outlinewidth\":0,\"ticks\":\"\"},\"colorscale\":[[0.0,\"#0d0887\"],[0.1111111111111111,\"#46039f\"],[0.2222222222222222,\"#7201a8\"],[0.3333333333333333,\"#9c179e\"],[0.4444444444444444,\"#bd3786\"],[0.5555555555555556,\"#d8576b\"],[0.6666666666666666,\"#ed7953\"],[0.7777777777777778,\"#fb9f3a\"],[0.8888888888888888,\"#fdca26\"],[1.0,\"#f0f921\"]]}],\"contourcarpet\":[{\"type\":\"contourcarpet\",\"colorbar\":{\"outlinewidth\":0,\"ticks\":\"\"}}],\"contour\":[{\"type\":\"contour\",\"colorbar\":{\"outlinewidth\":0,\"ticks\":\"\"},\"colorscale\":[[0.0,\"#0d0887\"],[0.1111111111111111,\"#46039f\"],[0.2222222222222222,\"#7201a8\"],[0.3333333333333333,\"#9c179e\"],[0.4444444444444444,\"#bd3786\"],[0.5555555555555556,\"#d8576b\"],[0.6666666666666666,\"#ed7953\"],[0.7777777777777778,\"#fb9f3a\"],[0.8888888888888888,\"#fdca26\"],[1.0,\"#f0f921\"]]}],\"surface\":[{\"type\":\"surface\",\"colorbar\":{\"outlinewidth\":0,\"ticks\":\"\"},\"colorscale\":[[0.0,\"#0d0887\"],[0.1111111111111111,\"#46039f\"],[0.2222222222222222,\"#7201a8\"],[0.3333333333333333,\"#9c179e\"],[0.4444444444444444,\"#bd3786\"],[0.5555555555555556,\"#d8576b\"],[0.6666666666666666,\"#ed7953\"],[0.7777777777777778,\"#fb9f3a\"],[0.8888888888888888,\"#fdca26\"],[1.0,\"#f0f921\"]]}],\"mesh3d\":[{\"type\":\"mesh3d\",\"colorbar\":{\"outlinewidth\":0,\"ticks\":\"\"}}],\"scatter\":[{\"fillpattern\":{\"fillmode\":\"overlay\",\"size\":10,\"solidity\":0.2},\"type\":\"scatter\"}],\"parcoords\":[{\"type\":\"parcoords\",\"line\":{\"colorbar\":{\"outlinewidth\":0,\"ticks\":\"\"}}}],\"scatterpolargl\":[{\"type\":\"scatterpolargl\",\"marker\":{\"colorbar\":{\"outlinewidth\":0,\"ticks\":\"\"}}}],\"bar\":[{\"error_x\":{\"color\":\"#2a3f5f\"},\"error_y\":{\"color\":\"#2a3f5f\"},\"marker\":{\"line\":{\"color\":\"#E5ECF6\",\"width\":0.5},\"pattern\":{\"fillmode\":\"overlay\",\"size\":10,\"solidity\":0.2}},\"type\":\"bar\"}],\"scattergeo\":[{\"type\":\"scattergeo\",\"marker\":{\"colorbar\":{\"outlinewidth\":0,\"ticks\":\"\"}}}],\"scatterpolar\":[{\"type\":\"scatterpolar\",\"marker\":{\"colorbar\":{\"outlinewidth\":0,\"ticks\":\"\"}}}],\"histogram\":[{\"marker\":{\"pattern\":{\"fillmode\":\"overlay\",\"size\":10,\"solidity\":0.2}},\"type\":\"histogram\"}],\"scattergl\":[{\"type\":\"scattergl\",\"marker\":{\"colorbar\":{\"outlinewidth\":0,\"ticks\":\"\"}}}],\"scatter3d\":[{\"type\":\"scatter3d\",\"line\":{\"colorbar\":{\"outlinewidth\":0,\"ticks\":\"\"}},\"marker\":{\"colorbar\":{\"outlinewidth\":0,\"ticks\":\"\"}}}],\"scattermapbox\":[{\"type\":\"scattermapbox\",\"marker\":{\"colorbar\":{\"outlinewidth\":0,\"ticks\":\"\"}}}],\"scatterternary\":[{\"type\":\"scatterternary\",\"marker\":{\"colorbar\":{\"outlinewidth\":0,\"ticks\":\"\"}}}],\"scattercarpet\":[{\"type\":\"scattercarpet\",\"marker\":{\"colorbar\":{\"outlinewidth\":0,\"ticks\":\"\"}}}],\"carpet\":[{\"aaxis\":{\"endlinecolor\":\"#2a3f5f\",\"gridcolor\":\"white\",\"linecolor\":\"white\",\"minorgridcolor\":\"white\",\"startlinecolor\":\"#2a3f5f\"},\"baxis\":{\"endlinecolor\":\"#2a3f5f\",\"gridcolor\":\"white\",\"linecolor\":\"white\",\"minorgridcolor\":\"white\",\"startlinecolor\":\"#2a3f5f\"},\"type\":\"carpet\"}],\"table\":[{\"cells\":{\"fill\":{\"color\":\"#EBF0F8\"},\"line\":{\"color\":\"white\"}},\"header\":{\"fill\":{\"color\":\"#C8D4E3\"},\"line\":{\"color\":\"white\"}},\"type\":\"table\"}],\"barpolar\":[{\"marker\":{\"line\":{\"color\":\"#E5ECF6\",\"width\":0.5},\"pattern\":{\"fillmode\":\"overlay\",\"size\":10,\"solidity\":0.2}},\"type\":\"barpolar\"}],\"pie\":[{\"automargin\":true,\"type\":\"pie\"}]},\"layout\":{\"autotypenumbers\":\"strict\",\"colorway\":[\"#636efa\",\"#EF553B\",\"#00cc96\",\"#ab63fa\",\"#FFA15A\",\"#19d3f3\",\"#FF6692\",\"#B6E880\",\"#FF97FF\",\"#FECB52\"],\"font\":{\"color\":\"#2a3f5f\"},\"hovermode\":\"closest\",\"hoverlabel\":{\"align\":\"left\"},\"paper_bgcolor\":\"white\",\"plot_bgcolor\":\"#E5ECF6\",\"polar\":{\"bgcolor\":\"#E5ECF6\",\"angularaxis\":{\"gridcolor\":\"white\",\"linecolor\":\"white\",\"ticks\":\"\"},\"radialaxis\":{\"gridcolor\":\"white\",\"linecolor\":\"white\",\"ticks\":\"\"}},\"ternary\":{\"bgcolor\":\"#E5ECF6\",\"aaxis\":{\"gridcolor\":\"white\",\"linecolor\":\"white\",\"ticks\":\"\"},\"baxis\":{\"gridcolor\":\"white\",\"linecolor\":\"white\",\"ticks\":\"\"},\"caxis\":{\"gridcolor\":\"white\",\"linecolor\":\"white\",\"ticks\":\"\"}},\"coloraxis\":{\"colorbar\":{\"outlinewidth\":0,\"ticks\":\"\"}},\"colorscale\":{\"sequential\":[[0.0,\"#0d0887\"],[0.1111111111111111,\"#46039f\"],[0.2222222222222222,\"#7201a8\"],[0.3333333333333333,\"#9c179e\"],[0.4444444444444444,\"#bd3786\"],[0.5555555555555556,\"#d8576b\"],[0.6666666666666666,\"#ed7953\"],[0.7777777777777778,\"#fb9f3a\"],[0.8888888888888888,\"#fdca26\"],[1.0,\"#f0f921\"]],\"sequentialminus\":[[0.0,\"#0d0887\"],[0.1111111111111111,\"#46039f\"],[0.2222222222222222,\"#7201a8\"],[0.3333333333333333,\"#9c179e\"],[0.4444444444444444,\"#bd3786\"],[0.5555555555555556,\"#d8576b\"],[0.6666666666666666,\"#ed7953\"],[0.7777777777777778,\"#fb9f3a\"],[0.8888888888888888,\"#fdca26\"],[1.0,\"#f0f921\"]],\"diverging\":[[0,\"#8e0152\"],[0.1,\"#c51b7d\"],[0.2,\"#de77ae\"],[0.3,\"#f1b6da\"],[0.4,\"#fde0ef\"],[0.5,\"#f7f7f7\"],[0.6,\"#e6f5d0\"],[0.7,\"#b8e186\"],[0.8,\"#7fbc41\"],[0.9,\"#4d9221\"],[1,\"#276419\"]]},\"xaxis\":{\"gridcolor\":\"white\",\"linecolor\":\"white\",\"ticks\":\"\",\"title\":{\"standoff\":15},\"zerolinecolor\":\"white\",\"automargin\":true,\"zerolinewidth\":2},\"yaxis\":{\"gridcolor\":\"white\",\"linecolor\":\"white\",\"ticks\":\"\",\"title\":{\"standoff\":15},\"zerolinecolor\":\"white\",\"automargin\":true,\"zerolinewidth\":2},\"scene\":{\"xaxis\":{\"backgroundcolor\":\"#E5ECF6\",\"gridcolor\":\"white\",\"linecolor\":\"white\",\"showbackground\":true,\"ticks\":\"\",\"zerolinecolor\":\"white\",\"gridwidth\":2},\"yaxis\":{\"backgroundcolor\":\"#E5ECF6\",\"gridcolor\":\"white\",\"linecolor\":\"white\",\"showbackground\":true,\"ticks\":\"\",\"zerolinecolor\":\"white\",\"gridwidth\":2},\"zaxis\":{\"backgroundcolor\":\"#E5ECF6\",\"gridcolor\":\"white\",\"linecolor\":\"white\",\"showbackground\":true,\"ticks\":\"\",\"zerolinecolor\":\"white\",\"gridwidth\":2}},\"shapedefaults\":{\"line\":{\"color\":\"#2a3f5f\"}},\"annotationdefaults\":{\"arrowcolor\":\"#2a3f5f\",\"arrowhead\":0,\"arrowwidth\":1},\"geo\":{\"bgcolor\":\"white\",\"landcolor\":\"#E5ECF6\",\"subunitcolor\":\"white\",\"showland\":true,\"showlakes\":true,\"lakecolor\":\"white\"},\"title\":{\"x\":0.05},\"mapbox\":{\"style\":\"light\"}}},\"xaxis\":{\"anchor\":\"y\",\"domain\":[0.0,1.0],\"scaleanchor\":\"y\",\"constrain\":\"domain\"},\"yaxis\":{\"anchor\":\"x\",\"domain\":[0.0,1.0],\"autorange\":\"reversed\",\"constrain\":\"domain\"},\"coloraxis\":{\"colorscale\":[[0.0,\"#0d0887\"],[0.1111111111111111,\"#46039f\"],[0.2222222222222222,\"#7201a8\"],[0.3333333333333333,\"#9c179e\"],[0.4444444444444444,\"#bd3786\"],[0.5555555555555556,\"#d8576b\"],[0.6666666666666666,\"#ed7953\"],[0.7777777777777778,\"#fb9f3a\"],[0.8888888888888888,\"#fdca26\"],[1.0,\"#f0f921\"]]},\"margin\":{\"t\":60}},                        {\"responsive\": true}                    ).then(function(){\n",
       "                            \n",
       "var gd = document.getElementById('6f03c5ff-21f3-4ec3-b252-5c97ef00f1b5');\n",
       "var x = new MutationObserver(function (mutations, observer) {{\n",
       "        var display = window.getComputedStyle(gd).display;\n",
       "        if (!display || display === 'none') {{\n",
       "            console.log([gd, 'removed!']);\n",
       "            Plotly.purge(gd);\n",
       "            observer.disconnect();\n",
       "        }}\n",
       "}});\n",
       "\n",
       "// Listen for the removal of the full notebook cells\n",
       "var notebookContainer = gd.closest('#notebook-container');\n",
       "if (notebookContainer) {{\n",
       "    x.observe(notebookContainer, {childList: true});\n",
       "}}\n",
       "\n",
       "// Listen for the clearing of the current output cell\n",
       "var outputEl = gd.closest('.output');\n",
       "if (outputEl) {{\n",
       "    x.observe(outputEl, {childList: true});\n",
       "}}\n",
       "\n",
       "                        })                };                });            </script>        </div>"
      ]
     },
     "metadata": {},
     "output_type": "display_data"
    }
   ],
   "source": [
    "\n",
    "data_per_min = data.groupby(['PLAYER','PLAYER_ID','Year'])[total_cols].sum().reset_index()\n",
    "for col in data_per_min.columns[4:]:\n",
    "    data_per_min[col] = data_per_min[col]/data_per_min['MIN']\n",
    "\n",
    "data_per_min['FG%'] = data_per_min['FGM']/data_per_min['FGA']\n",
    "data_per_min['3PT%'] = data_per_min['FG3M']/data_per_min['FG3A']\n",
    "data_per_min['FT%'] = data_per_min['FTM']/data_per_min['FTA']\n",
    "data_per_min['FG3A%'] = data_per_min['FG3A']/data_per_min['FGA']\n",
    "data_per_min['PTS/FGA'] = data_per_min['PTS']/data_per_min['FGA']\n",
    "data_per_min['FG3M/FGM'] = data_per_min['FG3M']/data_per_min['FGM']\n",
    "data_per_min['FTA/FGA'] = data_per_min['FTA']/data_per_min['FGA']\n",
    "data_per_min['TRU%'] = 0.5*data_per_min['PTS']/(data_per_min['FGA']+0.475*data_per_min['FTA'])\n",
    "data_per_min['AST_TOV'] = data_per_min['AST']/data_per_min['TOV']\n",
    "\n",
    "data_per_min = data_per_min[data_per_min['MIN']>=50]\n",
    "data_per_min.drop(columns='PLAYER_ID',inplace=True)\n",
    "data_per_min.drop(columns='PLAYER',inplace=True)\n",
    "data_per_min.drop(columns='Year',inplace=True)\n",
    "fig = px.imshow(data_per_min.corr())\n",
    "fig.show()"
   ]
  },
  {
   "cell_type": "markdown",
   "id": "13e0a926-94dd-4f47-b223-cf56b17ecedd",
   "metadata": {},
   "source": [
    "### minutes laye distrubuted"
   ]
  },
  {
   "cell_type": "code",
   "execution_count": 28,
   "id": "e035805c-cf2e-4b06-a2cd-6134f427dbfc",
   "metadata": {},
   "outputs": [
    {
     "name": "stdout",
     "output_type": "stream",
     "text": [
      "Series([], Name: MIN, dtype: int64)\n"
     ]
    }
   ],
   "source": []
  },
  {
   "cell_type": "code",
   "execution_count": 14,
   "id": "82617ad4-854e-4dac-9402-2ab5f7ff8b6d",
   "metadata": {},
   "outputs": [],
   "source": [
    "C"
   ]
  },
  {
   "cell_type": "code",
   "execution_count": 57,
   "id": "1762394c-6531-4bfa-812d-c068e50f755d",
   "metadata": {},
   "outputs": [
    {
     "name": "stdout",
     "output_type": "stream",
     "text": [
      "Empty DataFrame\n",
      "Columns: [Year, Season_type, PLAYER_ID, RANK, PLAYER, TEAM, GP, MIN, FGM, FGA, FG_PCT, FG3M, FG3A, FG3_PCT, FTM, FTA, FT_PCT, OREB, DREB, REB, AST, STL, BLK, TOV, PF, PTS, EFF, AST_TOV, STL_TOV]\n",
      "Index: []\n"
     ]
    }
   ],
   "source": [
    "print(rs_df)"
   ]
  },
  {
   "cell_type": "code",
   "execution_count": null,
   "id": "385684b3-9b7a-4233-a3e7-47359298fccc",
   "metadata": {},
   "outputs": [],
   "source": [
    "# Select only these columns\n",
    "\n",
    "# Create the histogram using the 'MIN' column\n",
    "fig = px.histogram(x=playoffs_df['MIN'].astype(int),histnorm='percent')\n",
    "fig.show()\n"
   ]
  },
  {
   "cell_type": "code",
   "execution_count": null,
   "id": "3299fd69-e781-48c5-8a38-21a06368e24d",
   "metadata": {},
   "outputs": [],
   "source": [
    "\n",
    "fig = px.histogram(x=rs_df['MIN'].astype(int),histnorm='percent')\n",
    "fig.show()"
   ]
  },
  {
   "cell_type": "code",
   "execution_count": null,
   "id": "641e88c8-629d-4f71-8de8-0dd083906798",
   "metadata": {},
   "outputs": [],
   "source": []
  }
 ],
 "metadata": {
  "kernelspec": {
   "display_name": "Python 3 (ipykernel)",
   "language": "python",
   "name": "python3"
  },
  "language_info": {
   "codemirror_mode": {
    "name": "ipython",
    "version": 3
   },
   "file_extension": ".py",
   "mimetype": "text/x-python",
   "name": "python",
   "nbconvert_exporter": "python",
   "pygments_lexer": "ipython3",
   "version": "3.13.0"
  }
 },
 "nbformat": 4,
 "nbformat_minor": 5
}
